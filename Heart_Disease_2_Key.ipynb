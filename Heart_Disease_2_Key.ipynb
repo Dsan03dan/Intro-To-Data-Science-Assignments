{
  "nbformat": 4,
  "nbformat_minor": 0,
  "metadata": {
    "colab": {
      "provenance": [],
      "toc_visible": true,
      "authorship_tag": "ABX9TyPKAy7v9BSaxgjm/Cebmulk",
      "include_colab_link": true
    },
    "kernelspec": {
      "name": "python3",
      "display_name": "Python 3"
    },
    "language_info": {
      "name": "python"
    }
  },
  "cells": [
    {
      "cell_type": "markdown",
      "metadata": {
        "id": "view-in-github",
        "colab_type": "text"
      },
      "source": [
        "<a href=\"https://colab.research.google.com/github/talamo13/Intro-To-Data-Science-Assignments/blob/Heart-Disease-%232/Heart_Disease_2_Key.ipynb\" target=\"_parent\"><img src=\"https://colab.research.google.com/assets/colab-badge.svg\" alt=\"Open In Colab\"/></a>"
      ]
    },
    {
      "cell_type": "markdown",
      "source": [
        "# **Heart Disease Data Set**"
      ],
      "metadata": {
        "id": "V8O8YFIqakxZ"
      }
    },
    {
      "cell_type": "markdown",
      "source": [
        "## **Context**"
      ],
      "metadata": {
        "id": "sPCX5lZDa-yP"
      }
    },
    {
      "cell_type": "markdown",
      "source": [
        "Coronary heart disease (CHD) involves the reduction of blood flow to the heart muscle due to the build-up of plaque in the arteries of the heart. It is the most common form of cardiovascular disease. Currently, invasive coronary angiography represents the gold standard for establishing the presence, location, and severity of CAD, however, this diagnostic method is costly and associated with morbidity and mortality in CAD patients. Therefore, it would be beneficial to develop a non-invasive alternative to replace the current gold standard.\n",
        "\n",
        "Other less invasive diagnostics methods have been proposed in the scientific literature including exercise electrocardiogram, thallium scintigraphy, and fluoroscopy of coronary calcification. However, the diagnostic accuracy of these tests only ranges between 35%-75%. Therefore, it would be beneficial to develop a computer-aided diagnostic tool that could utilize the combined results of these non-invasive tests in conjunction with other patient attributes to boost the diagnostic power of these non-invasive methods with the aim of ultimately replacing the current invasive gold standard.\n",
        "\n",
        "A number of 303 consecutive patients referred for coronary angiography at the Cleveland Clinic between May 1981 and September 1984 participated in the experiment. No patient had a history or electrocardiographic evidence of prior myocardial infarction or known valvular or cardiomyopathic diseases.\n"
      ],
      "metadata": {
        "id": "VnUODSGxcml1"
      }
    },
    {
      "cell_type": "markdown",
      "source": [
        "## **About The Dataset**"
      ],
      "metadata": {
        "id": "STHFu3yGbCnh"
      }
    },
    {
      "cell_type": "markdown",
      "source": [
        "The dataset comprises 303 observations, 13 features, and 1 target attribute. The 13 features include the results of the aforementioned non-invasive diagnostic tests along with other relevant patient information. The target variable includes the result of the invasive coronary angiogram which represents the presence or absence of coronary artery disease in the patient. The 14 variables (13 features and 1 target attribute) are described below."
      ],
      "metadata": {
        "id": "mCZTZiyuctej"
      }
    },
    {
      "cell_type": "markdown",
      "source": [
        "**1. AGE:** displays the age of the individual.\n",
        "\n",
        "**2. SEX:** displays the gender of the individual using the following format:\n",
        "   - 1 = male\n",
        "   - 0 = female\n",
        "\n",
        "**3. CP:** displays the type of chest-pain experienced by the individual using the following format:\n",
        "   - 0 = typical angina\n",
        "   - 1 = atypical angina\n",
        "   - 2 = non-anginal pain\n",
        "   - 3 = asymptotic\n",
        "\n",
        "**4. TRESTBPS:** displays the resting blood pressure value of an individual in mmHg (unit)\n",
        "\n",
        "**5. CHOL:** displays the serum cholesterol in mg/dl (unit)\n",
        "\n",
        "**6. FBS:** compares the fasting blood sugar value of an individual with 120mg/dl.\n",
        "   - 1: fasting blood sugar >120mg/dl\n",
        "   - 0: fasting blood sugar ≤ 120mg/dl\n",
        "\n",
        "**7. RESTECG:** displays resting electrocardiographic results\n",
        "   - 0 = normal\n",
        "   - 1 = having ST-T wave abnormality\n",
        "   - 2 = left ventricular hypertrophy\n",
        "\n",
        "**8. THALACH:** displays the max heart rate achieved by an individual.\n",
        "\n",
        "**9. EXANG:** Exercise induced angina\n",
        "   - 1 = yes\n",
        "   - 0 = no\n",
        "\n",
        "**10. OLDPEAK:** ST depression induced by exercise relative to rest. Displays the value which is an integer or float.\n",
        "\n",
        "**11. SLOPE:** Peak exercise ST segment\n",
        "    - 1 = upsloping\n",
        "    - 2 = flat\n",
        "    - 3 = downsloping\n",
        "\n",
        "**12. CA:** Number of major vessels (0-3) colored by fluoroscopy. Displays the value as an integer or float.\n",
        "\n",
        "**13. THAL:** Displays the thalassemia\n",
        "    - 1 = normal\n",
        "    - 2 = fixed defect\n",
        "    - 3 = reversible defect\n",
        "\n",
        "**14. Target:** Displays whether the individual is suffering from heart disease or not:\n",
        "  - 0 = abscence\n",
        "  - 1 = present\n"
      ],
      "metadata": {
        "id": "_cERymwfdBep"
      }
    },
    {
      "cell_type": "markdown",
      "source": [
        "The data was collected by Robert Detrano, M.D., Ph.D. of the Cleveland Clinic Foundation. See the Appendix at the end of this document for more details on why these variables are used to analyze CHD.\n",
        "\n",
        "Attribution: UCI Machine Learning Repository\n",
        "\n",
        "A snippet of the data is as follows:"
      ],
      "metadata": {
        "id": "WPwIMmVRdntA"
      }
    },
    {
      "cell_type": "code",
      "source": [
        "import pandas as pd\n",
        "import numpy as np\n",
        "import plotly.express as px\n",
        "\n",
        "df = pd.read_csv(\"https://raw.githubusercontent.com/talamo13/Intro-To-Data-Science-Assignments/Heart-Disease-%232/Heart-Disease-Data.csv\")\n",
        "\n",
        "# Display the first 5 rows of the dataframe\n",
        "df.iloc[0:5]"
      ],
      "metadata": {
        "colab": {
          "base_uri": "https://localhost:8080/",
          "height": 206
        },
        "id": "8K83uGhudxI2",
        "outputId": "1e203154-37c4-480b-e84a-528487d5b13d"
      },
      "execution_count": 1,
      "outputs": [
        {
          "output_type": "execute_result",
          "data": {
            "text/plain": [
              "   age  sex  cp  trestbps  chol  fbs  restecg  thalach  exang  oldpeak  slope  \\\n",
              "0   63    1   3       145   233    1        0      150      0      2.3      0   \n",
              "1   37    1   2       130   250    0        1      187      0      3.5      0   \n",
              "2   41    0   1       130   204    0        0      172      0      1.4      2   \n",
              "3   56    1   1       120   236    0        1      178      0      0.8      2   \n",
              "4   57    0   0       120   354    0        1      163      1      0.6      2   \n",
              "\n",
              "   ca  thal  target  \n",
              "0   0     1       1  \n",
              "1   0     2       1  \n",
              "2   0     2       1  \n",
              "3   0     2       1  \n",
              "4   0     2       1  "
            ],
            "text/html": [
              "\n",
              "  <div id=\"df-8865eed2-6045-4e68-921b-9c99e3fe44ac\" class=\"colab-df-container\">\n",
              "    <div>\n",
              "<style scoped>\n",
              "    .dataframe tbody tr th:only-of-type {\n",
              "        vertical-align: middle;\n",
              "    }\n",
              "\n",
              "    .dataframe tbody tr th {\n",
              "        vertical-align: top;\n",
              "    }\n",
              "\n",
              "    .dataframe thead th {\n",
              "        text-align: right;\n",
              "    }\n",
              "</style>\n",
              "<table border=\"1\" class=\"dataframe\">\n",
              "  <thead>\n",
              "    <tr style=\"text-align: right;\">\n",
              "      <th></th>\n",
              "      <th>age</th>\n",
              "      <th>sex</th>\n",
              "      <th>cp</th>\n",
              "      <th>trestbps</th>\n",
              "      <th>chol</th>\n",
              "      <th>fbs</th>\n",
              "      <th>restecg</th>\n",
              "      <th>thalach</th>\n",
              "      <th>exang</th>\n",
              "      <th>oldpeak</th>\n",
              "      <th>slope</th>\n",
              "      <th>ca</th>\n",
              "      <th>thal</th>\n",
              "      <th>target</th>\n",
              "    </tr>\n",
              "  </thead>\n",
              "  <tbody>\n",
              "    <tr>\n",
              "      <th>0</th>\n",
              "      <td>63</td>\n",
              "      <td>1</td>\n",
              "      <td>3</td>\n",
              "      <td>145</td>\n",
              "      <td>233</td>\n",
              "      <td>1</td>\n",
              "      <td>0</td>\n",
              "      <td>150</td>\n",
              "      <td>0</td>\n",
              "      <td>2.3</td>\n",
              "      <td>0</td>\n",
              "      <td>0</td>\n",
              "      <td>1</td>\n",
              "      <td>1</td>\n",
              "    </tr>\n",
              "    <tr>\n",
              "      <th>1</th>\n",
              "      <td>37</td>\n",
              "      <td>1</td>\n",
              "      <td>2</td>\n",
              "      <td>130</td>\n",
              "      <td>250</td>\n",
              "      <td>0</td>\n",
              "      <td>1</td>\n",
              "      <td>187</td>\n",
              "      <td>0</td>\n",
              "      <td>3.5</td>\n",
              "      <td>0</td>\n",
              "      <td>0</td>\n",
              "      <td>2</td>\n",
              "      <td>1</td>\n",
              "    </tr>\n",
              "    <tr>\n",
              "      <th>2</th>\n",
              "      <td>41</td>\n",
              "      <td>0</td>\n",
              "      <td>1</td>\n",
              "      <td>130</td>\n",
              "      <td>204</td>\n",
              "      <td>0</td>\n",
              "      <td>0</td>\n",
              "      <td>172</td>\n",
              "      <td>0</td>\n",
              "      <td>1.4</td>\n",
              "      <td>2</td>\n",
              "      <td>0</td>\n",
              "      <td>2</td>\n",
              "      <td>1</td>\n",
              "    </tr>\n",
              "    <tr>\n",
              "      <th>3</th>\n",
              "      <td>56</td>\n",
              "      <td>1</td>\n",
              "      <td>1</td>\n",
              "      <td>120</td>\n",
              "      <td>236</td>\n",
              "      <td>0</td>\n",
              "      <td>1</td>\n",
              "      <td>178</td>\n",
              "      <td>0</td>\n",
              "      <td>0.8</td>\n",
              "      <td>2</td>\n",
              "      <td>0</td>\n",
              "      <td>2</td>\n",
              "      <td>1</td>\n",
              "    </tr>\n",
              "    <tr>\n",
              "      <th>4</th>\n",
              "      <td>57</td>\n",
              "      <td>0</td>\n",
              "      <td>0</td>\n",
              "      <td>120</td>\n",
              "      <td>354</td>\n",
              "      <td>0</td>\n",
              "      <td>1</td>\n",
              "      <td>163</td>\n",
              "      <td>1</td>\n",
              "      <td>0.6</td>\n",
              "      <td>2</td>\n",
              "      <td>0</td>\n",
              "      <td>2</td>\n",
              "      <td>1</td>\n",
              "    </tr>\n",
              "  </tbody>\n",
              "</table>\n",
              "</div>\n",
              "    <div class=\"colab-df-buttons\">\n",
              "\n",
              "  <div class=\"colab-df-container\">\n",
              "    <button class=\"colab-df-convert\" onclick=\"convertToInteractive('df-8865eed2-6045-4e68-921b-9c99e3fe44ac')\"\n",
              "            title=\"Convert this dataframe to an interactive table.\"\n",
              "            style=\"display:none;\">\n",
              "\n",
              "  <svg xmlns=\"http://www.w3.org/2000/svg\" height=\"24px\" viewBox=\"0 -960 960 960\">\n",
              "    <path d=\"M120-120v-720h720v720H120Zm60-500h600v-160H180v160Zm220 220h160v-160H400v160Zm0 220h160v-160H400v160ZM180-400h160v-160H180v160Zm440 0h160v-160H620v160ZM180-180h160v-160H180v160Zm440 0h160v-160H620v160Z\"/>\n",
              "  </svg>\n",
              "    </button>\n",
              "\n",
              "  <style>\n",
              "    .colab-df-container {\n",
              "      display:flex;\n",
              "      gap: 12px;\n",
              "    }\n",
              "\n",
              "    .colab-df-convert {\n",
              "      background-color: #E8F0FE;\n",
              "      border: none;\n",
              "      border-radius: 50%;\n",
              "      cursor: pointer;\n",
              "      display: none;\n",
              "      fill: #1967D2;\n",
              "      height: 32px;\n",
              "      padding: 0 0 0 0;\n",
              "      width: 32px;\n",
              "    }\n",
              "\n",
              "    .colab-df-convert:hover {\n",
              "      background-color: #E2EBFA;\n",
              "      box-shadow: 0px 1px 2px rgba(60, 64, 67, 0.3), 0px 1px 3px 1px rgba(60, 64, 67, 0.15);\n",
              "      fill: #174EA6;\n",
              "    }\n",
              "\n",
              "    .colab-df-buttons div {\n",
              "      margin-bottom: 4px;\n",
              "    }\n",
              "\n",
              "    [theme=dark] .colab-df-convert {\n",
              "      background-color: #3B4455;\n",
              "      fill: #D2E3FC;\n",
              "    }\n",
              "\n",
              "    [theme=dark] .colab-df-convert:hover {\n",
              "      background-color: #434B5C;\n",
              "      box-shadow: 0px 1px 3px 1px rgba(0, 0, 0, 0.15);\n",
              "      filter: drop-shadow(0px 1px 2px rgba(0, 0, 0, 0.3));\n",
              "      fill: #FFFFFF;\n",
              "    }\n",
              "  </style>\n",
              "\n",
              "    <script>\n",
              "      const buttonEl =\n",
              "        document.querySelector('#df-8865eed2-6045-4e68-921b-9c99e3fe44ac button.colab-df-convert');\n",
              "      buttonEl.style.display =\n",
              "        google.colab.kernel.accessAllowed ? 'block' : 'none';\n",
              "\n",
              "      async function convertToInteractive(key) {\n",
              "        const element = document.querySelector('#df-8865eed2-6045-4e68-921b-9c99e3fe44ac');\n",
              "        const dataTable =\n",
              "          await google.colab.kernel.invokeFunction('convertToInteractive',\n",
              "                                                    [key], {});\n",
              "        if (!dataTable) return;\n",
              "\n",
              "        const docLinkHtml = 'Like what you see? Visit the ' +\n",
              "          '<a target=\"_blank\" href=https://colab.research.google.com/notebooks/data_table.ipynb>data table notebook</a>'\n",
              "          + ' to learn more about interactive tables.';\n",
              "        element.innerHTML = '';\n",
              "        dataTable['output_type'] = 'display_data';\n",
              "        await google.colab.output.renderOutput(dataTable, element);\n",
              "        const docLink = document.createElement('div');\n",
              "        docLink.innerHTML = docLinkHtml;\n",
              "        element.appendChild(docLink);\n",
              "      }\n",
              "    </script>\n",
              "  </div>\n",
              "\n",
              "\n",
              "<div id=\"df-3fe6488a-d040-469e-ae25-8351ab783470\">\n",
              "  <button class=\"colab-df-quickchart\" onclick=\"quickchart('df-3fe6488a-d040-469e-ae25-8351ab783470')\"\n",
              "            title=\"Suggest charts\"\n",
              "            style=\"display:none;\">\n",
              "\n",
              "<svg xmlns=\"http://www.w3.org/2000/svg\" height=\"24px\"viewBox=\"0 0 24 24\"\n",
              "     width=\"24px\">\n",
              "    <g>\n",
              "        <path d=\"M19 3H5c-1.1 0-2 .9-2 2v14c0 1.1.9 2 2 2h14c1.1 0 2-.9 2-2V5c0-1.1-.9-2-2-2zM9 17H7v-7h2v7zm4 0h-2V7h2v10zm4 0h-2v-4h2v4z\"/>\n",
              "    </g>\n",
              "</svg>\n",
              "  </button>\n",
              "\n",
              "<style>\n",
              "  .colab-df-quickchart {\n",
              "      --bg-color: #E8F0FE;\n",
              "      --fill-color: #1967D2;\n",
              "      --hover-bg-color: #E2EBFA;\n",
              "      --hover-fill-color: #174EA6;\n",
              "      --disabled-fill-color: #AAA;\n",
              "      --disabled-bg-color: #DDD;\n",
              "  }\n",
              "\n",
              "  [theme=dark] .colab-df-quickchart {\n",
              "      --bg-color: #3B4455;\n",
              "      --fill-color: #D2E3FC;\n",
              "      --hover-bg-color: #434B5C;\n",
              "      --hover-fill-color: #FFFFFF;\n",
              "      --disabled-bg-color: #3B4455;\n",
              "      --disabled-fill-color: #666;\n",
              "  }\n",
              "\n",
              "  .colab-df-quickchart {\n",
              "    background-color: var(--bg-color);\n",
              "    border: none;\n",
              "    border-radius: 50%;\n",
              "    cursor: pointer;\n",
              "    display: none;\n",
              "    fill: var(--fill-color);\n",
              "    height: 32px;\n",
              "    padding: 0;\n",
              "    width: 32px;\n",
              "  }\n",
              "\n",
              "  .colab-df-quickchart:hover {\n",
              "    background-color: var(--hover-bg-color);\n",
              "    box-shadow: 0 1px 2px rgba(60, 64, 67, 0.3), 0 1px 3px 1px rgba(60, 64, 67, 0.15);\n",
              "    fill: var(--button-hover-fill-color);\n",
              "  }\n",
              "\n",
              "  .colab-df-quickchart-complete:disabled,\n",
              "  .colab-df-quickchart-complete:disabled:hover {\n",
              "    background-color: var(--disabled-bg-color);\n",
              "    fill: var(--disabled-fill-color);\n",
              "    box-shadow: none;\n",
              "  }\n",
              "\n",
              "  .colab-df-spinner {\n",
              "    border: 2px solid var(--fill-color);\n",
              "    border-color: transparent;\n",
              "    border-bottom-color: var(--fill-color);\n",
              "    animation:\n",
              "      spin 1s steps(1) infinite;\n",
              "  }\n",
              "\n",
              "  @keyframes spin {\n",
              "    0% {\n",
              "      border-color: transparent;\n",
              "      border-bottom-color: var(--fill-color);\n",
              "      border-left-color: var(--fill-color);\n",
              "    }\n",
              "    20% {\n",
              "      border-color: transparent;\n",
              "      border-left-color: var(--fill-color);\n",
              "      border-top-color: var(--fill-color);\n",
              "    }\n",
              "    30% {\n",
              "      border-color: transparent;\n",
              "      border-left-color: var(--fill-color);\n",
              "      border-top-color: var(--fill-color);\n",
              "      border-right-color: var(--fill-color);\n",
              "    }\n",
              "    40% {\n",
              "      border-color: transparent;\n",
              "      border-right-color: var(--fill-color);\n",
              "      border-top-color: var(--fill-color);\n",
              "    }\n",
              "    60% {\n",
              "      border-color: transparent;\n",
              "      border-right-color: var(--fill-color);\n",
              "    }\n",
              "    80% {\n",
              "      border-color: transparent;\n",
              "      border-right-color: var(--fill-color);\n",
              "      border-bottom-color: var(--fill-color);\n",
              "    }\n",
              "    90% {\n",
              "      border-color: transparent;\n",
              "      border-bottom-color: var(--fill-color);\n",
              "    }\n",
              "  }\n",
              "</style>\n",
              "\n",
              "  <script>\n",
              "    async function quickchart(key) {\n",
              "      const quickchartButtonEl =\n",
              "        document.querySelector('#' + key + ' button');\n",
              "      quickchartButtonEl.disabled = true;  // To prevent multiple clicks.\n",
              "      quickchartButtonEl.classList.add('colab-df-spinner');\n",
              "      try {\n",
              "        const charts = await google.colab.kernel.invokeFunction(\n",
              "            'suggestCharts', [key], {});\n",
              "      } catch (error) {\n",
              "        console.error('Error during call to suggestCharts:', error);\n",
              "      }\n",
              "      quickchartButtonEl.classList.remove('colab-df-spinner');\n",
              "      quickchartButtonEl.classList.add('colab-df-quickchart-complete');\n",
              "    }\n",
              "    (() => {\n",
              "      let quickchartButtonEl =\n",
              "        document.querySelector('#df-3fe6488a-d040-469e-ae25-8351ab783470 button');\n",
              "      quickchartButtonEl.style.display =\n",
              "        google.colab.kernel.accessAllowed ? 'block' : 'none';\n",
              "    })();\n",
              "  </script>\n",
              "</div>\n",
              "\n",
              "    </div>\n",
              "  </div>\n"
            ],
            "application/vnd.google.colaboratory.intrinsic+json": {
              "type": "dataframe",
              "summary": "{\n  \"name\": \"df\",\n  \"rows\": 5,\n  \"fields\": [\n    {\n      \"column\": \"age\",\n      \"properties\": {\n        \"dtype\": \"number\",\n        \"std\": 11,\n        \"min\": 37,\n        \"max\": 63,\n        \"num_unique_values\": 5,\n        \"samples\": [\n          37,\n          57,\n          41\n        ],\n        \"semantic_type\": \"\",\n        \"description\": \"\"\n      }\n    },\n    {\n      \"column\": \"sex\",\n      \"properties\": {\n        \"dtype\": \"number\",\n        \"std\": 0,\n        \"min\": 0,\n        \"max\": 1,\n        \"num_unique_values\": 2,\n        \"samples\": [\n          0,\n          1\n        ],\n        \"semantic_type\": \"\",\n        \"description\": \"\"\n      }\n    },\n    {\n      \"column\": \"cp\",\n      \"properties\": {\n        \"dtype\": \"number\",\n        \"std\": 1,\n        \"min\": 0,\n        \"max\": 3,\n        \"num_unique_values\": 4,\n        \"samples\": [\n          2,\n          0\n        ],\n        \"semantic_type\": \"\",\n        \"description\": \"\"\n      }\n    },\n    {\n      \"column\": \"trestbps\",\n      \"properties\": {\n        \"dtype\": \"number\",\n        \"std\": 10,\n        \"min\": 120,\n        \"max\": 145,\n        \"num_unique_values\": 3,\n        \"samples\": [\n          145,\n          130\n        ],\n        \"semantic_type\": \"\",\n        \"description\": \"\"\n      }\n    },\n    {\n      \"column\": \"chol\",\n      \"properties\": {\n        \"dtype\": \"number\",\n        \"std\": 57,\n        \"min\": 204,\n        \"max\": 354,\n        \"num_unique_values\": 5,\n        \"samples\": [\n          250,\n          354\n        ],\n        \"semantic_type\": \"\",\n        \"description\": \"\"\n      }\n    },\n    {\n      \"column\": \"fbs\",\n      \"properties\": {\n        \"dtype\": \"number\",\n        \"std\": 0,\n        \"min\": 0,\n        \"max\": 1,\n        \"num_unique_values\": 2,\n        \"samples\": [\n          0,\n          1\n        ],\n        \"semantic_type\": \"\",\n        \"description\": \"\"\n      }\n    },\n    {\n      \"column\": \"restecg\",\n      \"properties\": {\n        \"dtype\": \"number\",\n        \"std\": 0,\n        \"min\": 0,\n        \"max\": 1,\n        \"num_unique_values\": 2,\n        \"samples\": [\n          1,\n          0\n        ],\n        \"semantic_type\": \"\",\n        \"description\": \"\"\n      }\n    },\n    {\n      \"column\": \"thalach\",\n      \"properties\": {\n        \"dtype\": \"number\",\n        \"std\": 14,\n        \"min\": 150,\n        \"max\": 187,\n        \"num_unique_values\": 5,\n        \"samples\": [\n          187,\n          163\n        ],\n        \"semantic_type\": \"\",\n        \"description\": \"\"\n      }\n    },\n    {\n      \"column\": \"exang\",\n      \"properties\": {\n        \"dtype\": \"number\",\n        \"std\": 0,\n        \"min\": 0,\n        \"max\": 1,\n        \"num_unique_values\": 2,\n        \"samples\": [\n          1,\n          0\n        ],\n        \"semantic_type\": \"\",\n        \"description\": \"\"\n      }\n    },\n    {\n      \"column\": \"oldpeak\",\n      \"properties\": {\n        \"dtype\": \"number\",\n        \"std\": 1.1945710527214362,\n        \"min\": 0.6,\n        \"max\": 3.5,\n        \"num_unique_values\": 5,\n        \"samples\": [\n          3.5,\n          0.6\n        ],\n        \"semantic_type\": \"\",\n        \"description\": \"\"\n      }\n    },\n    {\n      \"column\": \"slope\",\n      \"properties\": {\n        \"dtype\": \"number\",\n        \"std\": 1,\n        \"min\": 0,\n        \"max\": 2,\n        \"num_unique_values\": 2,\n        \"samples\": [\n          2,\n          0\n        ],\n        \"semantic_type\": \"\",\n        \"description\": \"\"\n      }\n    },\n    {\n      \"column\": \"ca\",\n      \"properties\": {\n        \"dtype\": \"number\",\n        \"std\": 0,\n        \"min\": 0,\n        \"max\": 0,\n        \"num_unique_values\": 1,\n        \"samples\": [\n          0\n        ],\n        \"semantic_type\": \"\",\n        \"description\": \"\"\n      }\n    },\n    {\n      \"column\": \"thal\",\n      \"properties\": {\n        \"dtype\": \"number\",\n        \"std\": 0,\n        \"min\": 1,\n        \"max\": 2,\n        \"num_unique_values\": 2,\n        \"samples\": [\n          2\n        ],\n        \"semantic_type\": \"\",\n        \"description\": \"\"\n      }\n    },\n    {\n      \"column\": \"target\",\n      \"properties\": {\n        \"dtype\": \"number\",\n        \"std\": 0,\n        \"min\": 1,\n        \"max\": 1,\n        \"num_unique_values\": 1,\n        \"samples\": [\n          1\n        ],\n        \"semantic_type\": \"\",\n        \"description\": \"\"\n      }\n    }\n  ]\n}"
            }
          },
          "metadata": {},
          "execution_count": 1
        }
      ]
    },
    {
      "cell_type": "markdown",
      "source": [
        "# **Correlation and Regression Analysis**"
      ],
      "metadata": {
        "id": "fkSwfFOhbGpQ"
      }
    },
    {
      "cell_type": "markdown",
      "source": [
        "This assignment is intended to explore the univariate linear relationships between quantitative variables in the data. Choose the dependent and independent variables based on your last name. Use SPSS to analyze the relationship between the two variables and complete each of the following questions. As appropriate, copy the SPSS output and paste it into the correct part below. For problems that require a written response, type the answer below."
      ],
      "metadata": {
        "id": "hyxeCJdChcgJ"
      }
    },
    {
      "cell_type": "markdown",
      "source": [
        "<div align=center>\n",
        "\n",
        "| **Last Name** | **Dependent Variable (y)** | **Independent Variable (x)** |\n",
        "|-----------|-------------------------|---------------------------|\n",
        "| A-L       | TRESTBPS                | CHOL                      |\n",
        "| M-Z       | THALACH                 | AGE                       |\n",
        "\n",
        "</div>\n"
      ],
      "metadata": {
        "id": "WWpSJHsOie4N"
      }
    },
    {
      "cell_type": "markdown",
      "source": [
        "### 1. Construct a scatterplot of the two variables without the line of regression. How would you describe the relationship between the two variables? Is this what you expected?"
      ],
      "metadata": {
        "id": "t3JsLu5cjKAN"
      }
    },
    {
      "cell_type": "markdown",
      "source": [
        "#### A-M"
      ],
      "metadata": {
        "id": "n0-RkIoYlXND"
      }
    },
    {
      "cell_type": "code",
      "source": [
        "fig1AM = px.scatter(df, x='chol', y='trestbps', title='Scatter Plot For trestbps By choi')\n",
        "fig1AM"
      ],
      "metadata": {
        "colab": {
          "base_uri": "https://localhost:8080/",
          "height": 542
        },
        "id": "HmVcRsMOla6o",
        "outputId": "a89f4362-8319-40d1-b85c-106931b2d301"
      },
      "execution_count": 2,
      "outputs": [
        {
          "output_type": "display_data",
          "data": {
            "text/html": [
              "<html>\n",
              "<head><meta charset=\"utf-8\" /></head>\n",
              "<body>\n",
              "    <div>            <script src=\"https://cdnjs.cloudflare.com/ajax/libs/mathjax/2.7.5/MathJax.js?config=TeX-AMS-MML_SVG\"></script><script type=\"text/javascript\">if (window.MathJax && window.MathJax.Hub && window.MathJax.Hub.Config) {window.MathJax.Hub.Config({SVG: {font: \"STIX-Web\"}});}</script>                <script type=\"text/javascript\">window.PlotlyConfig = {MathJaxConfig: 'local'};</script>\n",
              "        <script charset=\"utf-8\" src=\"https://cdn.plot.ly/plotly-2.24.1.min.js\"></script>                <div id=\"131b0a95-3dea-45cd-b24f-8e12b60553de\" class=\"plotly-graph-div\" style=\"height:525px; width:100%;\"></div>            <script type=\"text/javascript\">                                    window.PLOTLYENV=window.PLOTLYENV || {};                                    if (document.getElementById(\"131b0a95-3dea-45cd-b24f-8e12b60553de\")) {                    Plotly.newPlot(                        \"131b0a95-3dea-45cd-b24f-8e12b60553de\",                        [{\"hovertemplate\":\"chol=%{x}\\u003cbr\\u003etrestbps=%{y}\\u003cextra\\u003e\\u003c\\u002fextra\\u003e\",\"legendgroup\":\"\",\"marker\":{\"color\":\"#636efa\",\"symbol\":\"circle\"},\"mode\":\"markers\",\"name\":\"\",\"orientation\":\"v\",\"showlegend\":false,\"x\":[233,250,204,236,354,192,294,263,199,168,239,275,266,211,283,219,340,226,247,239,234,233,226,243,199,302,212,175,417,197,198,177,219,273,213,177,304,232,269,360,308,245,208,264,321,325,235,257,216,234,256,302,231,141,252,201,222,260,182,303,265,309,186,203,211,183,222,234,220,209,258,227,204,261,213,250,245,221,205,240,250,308,318,298,265,564,277,197,214,248,255,207,223,288,160,226,394,233,315,246,244,270,195,240,196,211,234,236,244,254,325,126,313,211,262,215,214,193,204,243,303,271,268,267,199,210,204,277,196,269,201,271,295,235,306,269,178,208,201,263,295,303,209,223,197,245,242,240,226,180,228,149,227,278,220,197,253,192,220,221,240,342,157,175,175,286,229,268,254,203,256,229,284,224,206,167,230,335,177,276,353,225,330,230,243,290,253,266,233,172,305,216,188,282,185,326,231,254,267,248,197,258,270,274,164,255,239,258,188,177,229,260,219,307,249,341,263,330,254,256,407,217,282,288,239,174,281,198,288,309,243,289,289,246,322,299,300,293,304,282,269,249,212,274,184,274,409,246,283,254,298,247,294,299,273,309,259,200,244,231,228,230,282,269,206,212,327,149,286,283,249,234,237,234,275,212,218,261,319,166,315,204,218,223,207,311,204,232,335,205,203,318,225,212,169,187,197,176,241,264,193,131,236],\"xaxis\":\"x\",\"y\":[145,130,130,120,120,140,140,120,172,150,140,130,130,110,150,120,120,150,150,140,135,130,140,150,140,160,150,110,140,130,105,120,130,125,125,142,135,150,155,160,140,130,104,130,140,120,140,138,128,138,130,120,130,108,135,134,122,115,118,128,110,108,118,135,140,138,100,130,120,124,120,94,130,140,122,135,125,140,128,105,112,128,102,152,102,115,118,101,110,100,124,132,138,132,112,142,140,108,130,130,148,178,140,120,129,120,160,138,120,110,180,150,140,110,130,120,130,120,105,138,130,138,112,108,94,118,112,152,136,120,160,134,120,110,126,130,120,128,110,128,120,115,120,106,140,156,118,150,120,130,160,112,170,146,138,130,130,122,125,130,120,132,120,138,138,160,120,140,130,140,130,110,120,132,130,110,117,140,120,150,132,150,130,112,150,112,130,124,140,110,130,128,120,145,140,170,150,125,120,110,110,125,150,180,160,128,110,150,120,140,128,120,118,145,125,132,130,130,135,130,150,140,138,200,110,145,120,120,170,125,108,165,160,120,130,140,125,140,125,126,160,174,145,152,132,124,134,160,192,140,140,132,138,100,160,142,128,144,150,120,178,112,123,108,110,112,180,118,122,130,120,134,120,100,110,125,146,124,136,138,136,128,126,152,140,140,134,154,110,128,148,114,170,152,120,140,124,164,140,110,144,130,130],\"yaxis\":\"y\",\"type\":\"scatter\"}],                        {\"template\":{\"data\":{\"histogram2dcontour\":[{\"type\":\"histogram2dcontour\",\"colorbar\":{\"outlinewidth\":0,\"ticks\":\"\"},\"colorscale\":[[0.0,\"#0d0887\"],[0.1111111111111111,\"#46039f\"],[0.2222222222222222,\"#7201a8\"],[0.3333333333333333,\"#9c179e\"],[0.4444444444444444,\"#bd3786\"],[0.5555555555555556,\"#d8576b\"],[0.6666666666666666,\"#ed7953\"],[0.7777777777777778,\"#fb9f3a\"],[0.8888888888888888,\"#fdca26\"],[1.0,\"#f0f921\"]]}],\"choropleth\":[{\"type\":\"choropleth\",\"colorbar\":{\"outlinewidth\":0,\"ticks\":\"\"}}],\"histogram2d\":[{\"type\":\"histogram2d\",\"colorbar\":{\"outlinewidth\":0,\"ticks\":\"\"},\"colorscale\":[[0.0,\"#0d0887\"],[0.1111111111111111,\"#46039f\"],[0.2222222222222222,\"#7201a8\"],[0.3333333333333333,\"#9c179e\"],[0.4444444444444444,\"#bd3786\"],[0.5555555555555556,\"#d8576b\"],[0.6666666666666666,\"#ed7953\"],[0.7777777777777778,\"#fb9f3a\"],[0.8888888888888888,\"#fdca26\"],[1.0,\"#f0f921\"]]}],\"heatmap\":[{\"type\":\"heatmap\",\"colorbar\":{\"outlinewidth\":0,\"ticks\":\"\"},\"colorscale\":[[0.0,\"#0d0887\"],[0.1111111111111111,\"#46039f\"],[0.2222222222222222,\"#7201a8\"],[0.3333333333333333,\"#9c179e\"],[0.4444444444444444,\"#bd3786\"],[0.5555555555555556,\"#d8576b\"],[0.6666666666666666,\"#ed7953\"],[0.7777777777777778,\"#fb9f3a\"],[0.8888888888888888,\"#fdca26\"],[1.0,\"#f0f921\"]]}],\"heatmapgl\":[{\"type\":\"heatmapgl\",\"colorbar\":{\"outlinewidth\":0,\"ticks\":\"\"},\"colorscale\":[[0.0,\"#0d0887\"],[0.1111111111111111,\"#46039f\"],[0.2222222222222222,\"#7201a8\"],[0.3333333333333333,\"#9c179e\"],[0.4444444444444444,\"#bd3786\"],[0.5555555555555556,\"#d8576b\"],[0.6666666666666666,\"#ed7953\"],[0.7777777777777778,\"#fb9f3a\"],[0.8888888888888888,\"#fdca26\"],[1.0,\"#f0f921\"]]}],\"contourcarpet\":[{\"type\":\"contourcarpet\",\"colorbar\":{\"outlinewidth\":0,\"ticks\":\"\"}}],\"contour\":[{\"type\":\"contour\",\"colorbar\":{\"outlinewidth\":0,\"ticks\":\"\"},\"colorscale\":[[0.0,\"#0d0887\"],[0.1111111111111111,\"#46039f\"],[0.2222222222222222,\"#7201a8\"],[0.3333333333333333,\"#9c179e\"],[0.4444444444444444,\"#bd3786\"],[0.5555555555555556,\"#d8576b\"],[0.6666666666666666,\"#ed7953\"],[0.7777777777777778,\"#fb9f3a\"],[0.8888888888888888,\"#fdca26\"],[1.0,\"#f0f921\"]]}],\"surface\":[{\"type\":\"surface\",\"colorbar\":{\"outlinewidth\":0,\"ticks\":\"\"},\"colorscale\":[[0.0,\"#0d0887\"],[0.1111111111111111,\"#46039f\"],[0.2222222222222222,\"#7201a8\"],[0.3333333333333333,\"#9c179e\"],[0.4444444444444444,\"#bd3786\"],[0.5555555555555556,\"#d8576b\"],[0.6666666666666666,\"#ed7953\"],[0.7777777777777778,\"#fb9f3a\"],[0.8888888888888888,\"#fdca26\"],[1.0,\"#f0f921\"]]}],\"mesh3d\":[{\"type\":\"mesh3d\",\"colorbar\":{\"outlinewidth\":0,\"ticks\":\"\"}}],\"scatter\":[{\"fillpattern\":{\"fillmode\":\"overlay\",\"size\":10,\"solidity\":0.2},\"type\":\"scatter\"}],\"parcoords\":[{\"type\":\"parcoords\",\"line\":{\"colorbar\":{\"outlinewidth\":0,\"ticks\":\"\"}}}],\"scatterpolargl\":[{\"type\":\"scatterpolargl\",\"marker\":{\"colorbar\":{\"outlinewidth\":0,\"ticks\":\"\"}}}],\"bar\":[{\"error_x\":{\"color\":\"#2a3f5f\"},\"error_y\":{\"color\":\"#2a3f5f\"},\"marker\":{\"line\":{\"color\":\"#E5ECF6\",\"width\":0.5},\"pattern\":{\"fillmode\":\"overlay\",\"size\":10,\"solidity\":0.2}},\"type\":\"bar\"}],\"scattergeo\":[{\"type\":\"scattergeo\",\"marker\":{\"colorbar\":{\"outlinewidth\":0,\"ticks\":\"\"}}}],\"scatterpolar\":[{\"type\":\"scatterpolar\",\"marker\":{\"colorbar\":{\"outlinewidth\":0,\"ticks\":\"\"}}}],\"histogram\":[{\"marker\":{\"pattern\":{\"fillmode\":\"overlay\",\"size\":10,\"solidity\":0.2}},\"type\":\"histogram\"}],\"scattergl\":[{\"type\":\"scattergl\",\"marker\":{\"colorbar\":{\"outlinewidth\":0,\"ticks\":\"\"}}}],\"scatter3d\":[{\"type\":\"scatter3d\",\"line\":{\"colorbar\":{\"outlinewidth\":0,\"ticks\":\"\"}},\"marker\":{\"colorbar\":{\"outlinewidth\":0,\"ticks\":\"\"}}}],\"scattermapbox\":[{\"type\":\"scattermapbox\",\"marker\":{\"colorbar\":{\"outlinewidth\":0,\"ticks\":\"\"}}}],\"scatterternary\":[{\"type\":\"scatterternary\",\"marker\":{\"colorbar\":{\"outlinewidth\":0,\"ticks\":\"\"}}}],\"scattercarpet\":[{\"type\":\"scattercarpet\",\"marker\":{\"colorbar\":{\"outlinewidth\":0,\"ticks\":\"\"}}}],\"carpet\":[{\"aaxis\":{\"endlinecolor\":\"#2a3f5f\",\"gridcolor\":\"white\",\"linecolor\":\"white\",\"minorgridcolor\":\"white\",\"startlinecolor\":\"#2a3f5f\"},\"baxis\":{\"endlinecolor\":\"#2a3f5f\",\"gridcolor\":\"white\",\"linecolor\":\"white\",\"minorgridcolor\":\"white\",\"startlinecolor\":\"#2a3f5f\"},\"type\":\"carpet\"}],\"table\":[{\"cells\":{\"fill\":{\"color\":\"#EBF0F8\"},\"line\":{\"color\":\"white\"}},\"header\":{\"fill\":{\"color\":\"#C8D4E3\"},\"line\":{\"color\":\"white\"}},\"type\":\"table\"}],\"barpolar\":[{\"marker\":{\"line\":{\"color\":\"#E5ECF6\",\"width\":0.5},\"pattern\":{\"fillmode\":\"overlay\",\"size\":10,\"solidity\":0.2}},\"type\":\"barpolar\"}],\"pie\":[{\"automargin\":true,\"type\":\"pie\"}]},\"layout\":{\"autotypenumbers\":\"strict\",\"colorway\":[\"#636efa\",\"#EF553B\",\"#00cc96\",\"#ab63fa\",\"#FFA15A\",\"#19d3f3\",\"#FF6692\",\"#B6E880\",\"#FF97FF\",\"#FECB52\"],\"font\":{\"color\":\"#2a3f5f\"},\"hovermode\":\"closest\",\"hoverlabel\":{\"align\":\"left\"},\"paper_bgcolor\":\"white\",\"plot_bgcolor\":\"#E5ECF6\",\"polar\":{\"bgcolor\":\"#E5ECF6\",\"angularaxis\":{\"gridcolor\":\"white\",\"linecolor\":\"white\",\"ticks\":\"\"},\"radialaxis\":{\"gridcolor\":\"white\",\"linecolor\":\"white\",\"ticks\":\"\"}},\"ternary\":{\"bgcolor\":\"#E5ECF6\",\"aaxis\":{\"gridcolor\":\"white\",\"linecolor\":\"white\",\"ticks\":\"\"},\"baxis\":{\"gridcolor\":\"white\",\"linecolor\":\"white\",\"ticks\":\"\"},\"caxis\":{\"gridcolor\":\"white\",\"linecolor\":\"white\",\"ticks\":\"\"}},\"coloraxis\":{\"colorbar\":{\"outlinewidth\":0,\"ticks\":\"\"}},\"colorscale\":{\"sequential\":[[0.0,\"#0d0887\"],[0.1111111111111111,\"#46039f\"],[0.2222222222222222,\"#7201a8\"],[0.3333333333333333,\"#9c179e\"],[0.4444444444444444,\"#bd3786\"],[0.5555555555555556,\"#d8576b\"],[0.6666666666666666,\"#ed7953\"],[0.7777777777777778,\"#fb9f3a\"],[0.8888888888888888,\"#fdca26\"],[1.0,\"#f0f921\"]],\"sequentialminus\":[[0.0,\"#0d0887\"],[0.1111111111111111,\"#46039f\"],[0.2222222222222222,\"#7201a8\"],[0.3333333333333333,\"#9c179e\"],[0.4444444444444444,\"#bd3786\"],[0.5555555555555556,\"#d8576b\"],[0.6666666666666666,\"#ed7953\"],[0.7777777777777778,\"#fb9f3a\"],[0.8888888888888888,\"#fdca26\"],[1.0,\"#f0f921\"]],\"diverging\":[[0,\"#8e0152\"],[0.1,\"#c51b7d\"],[0.2,\"#de77ae\"],[0.3,\"#f1b6da\"],[0.4,\"#fde0ef\"],[0.5,\"#f7f7f7\"],[0.6,\"#e6f5d0\"],[0.7,\"#b8e186\"],[0.8,\"#7fbc41\"],[0.9,\"#4d9221\"],[1,\"#276419\"]]},\"xaxis\":{\"gridcolor\":\"white\",\"linecolor\":\"white\",\"ticks\":\"\",\"title\":{\"standoff\":15},\"zerolinecolor\":\"white\",\"automargin\":true,\"zerolinewidth\":2},\"yaxis\":{\"gridcolor\":\"white\",\"linecolor\":\"white\",\"ticks\":\"\",\"title\":{\"standoff\":15},\"zerolinecolor\":\"white\",\"automargin\":true,\"zerolinewidth\":2},\"scene\":{\"xaxis\":{\"backgroundcolor\":\"#E5ECF6\",\"gridcolor\":\"white\",\"linecolor\":\"white\",\"showbackground\":true,\"ticks\":\"\",\"zerolinecolor\":\"white\",\"gridwidth\":2},\"yaxis\":{\"backgroundcolor\":\"#E5ECF6\",\"gridcolor\":\"white\",\"linecolor\":\"white\",\"showbackground\":true,\"ticks\":\"\",\"zerolinecolor\":\"white\",\"gridwidth\":2},\"zaxis\":{\"backgroundcolor\":\"#E5ECF6\",\"gridcolor\":\"white\",\"linecolor\":\"white\",\"showbackground\":true,\"ticks\":\"\",\"zerolinecolor\":\"white\",\"gridwidth\":2}},\"shapedefaults\":{\"line\":{\"color\":\"#2a3f5f\"}},\"annotationdefaults\":{\"arrowcolor\":\"#2a3f5f\",\"arrowhead\":0,\"arrowwidth\":1},\"geo\":{\"bgcolor\":\"white\",\"landcolor\":\"#E5ECF6\",\"subunitcolor\":\"white\",\"showland\":true,\"showlakes\":true,\"lakecolor\":\"white\"},\"title\":{\"x\":0.05},\"mapbox\":{\"style\":\"light\"}}},\"xaxis\":{\"anchor\":\"y\",\"domain\":[0.0,1.0],\"title\":{\"text\":\"chol\"}},\"yaxis\":{\"anchor\":\"x\",\"domain\":[0.0,1.0],\"title\":{\"text\":\"trestbps\"}},\"legend\":{\"tracegroupgap\":0},\"title\":{\"text\":\"Scatter Plot For trestbps By choi\"}},                        {\"responsive\": true}                    ).then(function(){\n",
              "                            \n",
              "var gd = document.getElementById('131b0a95-3dea-45cd-b24f-8e12b60553de');\n",
              "var x = new MutationObserver(function (mutations, observer) {{\n",
              "        var display = window.getComputedStyle(gd).display;\n",
              "        if (!display || display === 'none') {{\n",
              "            console.log([gd, 'removed!']);\n",
              "            Plotly.purge(gd);\n",
              "            observer.disconnect();\n",
              "        }}\n",
              "}});\n",
              "\n",
              "// Listen for the removal of the full notebook cells\n",
              "var notebookContainer = gd.closest('#notebook-container');\n",
              "if (notebookContainer) {{\n",
              "    x.observe(notebookContainer, {childList: true});\n",
              "}}\n",
              "\n",
              "// Listen for the clearing of the current output cell\n",
              "var outputEl = gd.closest('.output');\n",
              "if (outputEl) {{\n",
              "    x.observe(outputEl, {childList: true});\n",
              "}}\n",
              "\n",
              "                        })                };                            </script>        </div>\n",
              "</body>\n",
              "</html>"
            ]
          },
          "metadata": {}
        }
      ]
    },
    {
      "cell_type": "markdown",
      "source": [
        "*· There is a weak positive linear relationship between the resting blood pressure and cholesterol.*\n",
        "\n",
        "*· (Explanation of whether it was what the student expected.)*"
      ],
      "metadata": {
        "id": "-lIfJ61DlcMb"
      }
    },
    {
      "cell_type": "markdown",
      "source": [
        "#### N-Z"
      ],
      "metadata": {
        "id": "8wm4TGZEldBE"
      }
    },
    {
      "cell_type": "code",
      "source": [
        "fig1NZ = px.scatter(df, x='age', y='thalach', title='Scatter Plot Of thalach By age')\n",
        "fig1NZ"
      ],
      "metadata": {
        "colab": {
          "base_uri": "https://localhost:8080/",
          "height": 542
        },
        "id": "8lu1P4kJlf9b",
        "outputId": "5df32eac-10fb-402c-bbd5-2fd69f66e17e"
      },
      "execution_count": 3,
      "outputs": [
        {
          "output_type": "display_data",
          "data": {
            "text/html": [
              "<html>\n",
              "<head><meta charset=\"utf-8\" /></head>\n",
              "<body>\n",
              "    <div>            <script src=\"https://cdnjs.cloudflare.com/ajax/libs/mathjax/2.7.5/MathJax.js?config=TeX-AMS-MML_SVG\"></script><script type=\"text/javascript\">if (window.MathJax && window.MathJax.Hub && window.MathJax.Hub.Config) {window.MathJax.Hub.Config({SVG: {font: \"STIX-Web\"}});}</script>                <script type=\"text/javascript\">window.PlotlyConfig = {MathJaxConfig: 'local'};</script>\n",
              "        <script charset=\"utf-8\" src=\"https://cdn.plot.ly/plotly-2.24.1.min.js\"></script>                <div id=\"51a4b55d-22a0-4250-920f-0554fb41107b\" class=\"plotly-graph-div\" style=\"height:525px; width:100%;\"></div>            <script type=\"text/javascript\">                                    window.PLOTLYENV=window.PLOTLYENV || {};                                    if (document.getElementById(\"51a4b55d-22a0-4250-920f-0554fb41107b\")) {                    Plotly.newPlot(                        \"51a4b55d-22a0-4250-920f-0554fb41107b\",                        [{\"hovertemplate\":\"age=%{x}\\u003cbr\\u003ethalach=%{y}\\u003cextra\\u003e\\u003c\\u002fextra\\u003e\",\"legendgroup\":\"\",\"marker\":{\"color\":\"#636efa\",\"symbol\":\"circle\"},\"mode\":\"markers\",\"name\":\"\",\"orientation\":\"v\",\"showlegend\":false,\"x\":[63,37,41,56,57,57,56,44,52,57,54,48,49,64,58,50,58,66,43,69,59,44,42,61,40,71,59,51,65,53,41,65,44,54,51,46,54,54,65,65,51,48,45,53,39,52,44,47,53,53,51,66,62,44,63,52,48,45,34,57,71,54,52,41,58,35,51,45,44,62,54,51,29,51,43,55,51,59,52,58,41,45,60,52,42,67,68,46,54,58,48,57,52,54,45,53,62,52,43,53,42,59,63,42,50,68,69,45,50,50,64,57,64,43,55,37,41,56,46,46,64,59,41,54,39,34,47,67,52,74,54,49,42,41,41,49,60,62,57,64,51,43,42,67,76,70,44,60,44,42,66,71,64,66,39,58,47,35,58,56,56,55,41,38,38,67,67,62,63,53,56,48,58,58,60,40,60,64,43,57,55,65,61,58,50,44,60,54,50,41,51,58,54,60,60,59,46,67,62,65,44,60,58,68,62,52,59,60,49,59,57,61,39,61,56,43,62,63,65,48,63,55,65,56,54,70,62,35,59,64,47,57,55,64,70,51,58,60,77,35,70,59,64,57,56,48,56,66,54,69,51,43,62,67,59,45,58,50,62,38,66,52,53,63,54,66,55,49,54,56,46,61,67,58,47,52,58,57,58,61,42,52,59,40,61,46,59,57,57,55,61,58,58,67,44,63,63,59,57,45,68,57,57],\"xaxis\":\"x\",\"y\":[150,187,172,178,163,148,153,173,162,174,160,139,171,144,162,158,172,114,171,151,161,179,178,137,178,162,157,123,157,152,168,140,188,152,125,160,170,165,148,151,142,180,148,143,182,172,180,156,115,160,149,151,146,175,172,158,186,185,174,159,130,156,190,132,165,182,143,175,170,163,147,154,202,186,165,161,166,164,184,154,179,170,160,178,122,160,151,156,158,122,175,168,169,159,138,111,157,147,162,173,178,145,179,194,163,115,131,152,162,159,154,173,133,161,155,170,168,162,172,152,122,182,172,167,179,192,143,172,169,121,163,162,162,153,163,163,96,140,126,105,157,181,173,142,116,143,149,171,169,150,138,125,155,152,152,131,179,174,144,163,169,166,182,173,173,108,129,160,147,155,142,168,160,173,132,114,160,158,120,112,132,114,169,165,128,153,144,109,163,158,142,131,113,142,155,140,147,163,99,158,177,141,111,150,145,161,142,157,139,162,150,140,140,146,144,136,97,132,127,150,154,111,174,133,126,125,103,130,159,131,152,124,145,96,109,173,171,170,162,156,112,143,132,88,105,166,150,120,195,146,122,143,106,125,125,147,130,126,154,182,165,160,95,169,108,132,117,126,116,103,144,145,71,156,118,168,105,141,152,125,125,156,134,181,138,120,162,164,143,130,161,140,146,150,144,144,136,90,123,132,141,115,174],\"yaxis\":\"y\",\"type\":\"scatter\"}],                        {\"template\":{\"data\":{\"histogram2dcontour\":[{\"type\":\"histogram2dcontour\",\"colorbar\":{\"outlinewidth\":0,\"ticks\":\"\"},\"colorscale\":[[0.0,\"#0d0887\"],[0.1111111111111111,\"#46039f\"],[0.2222222222222222,\"#7201a8\"],[0.3333333333333333,\"#9c179e\"],[0.4444444444444444,\"#bd3786\"],[0.5555555555555556,\"#d8576b\"],[0.6666666666666666,\"#ed7953\"],[0.7777777777777778,\"#fb9f3a\"],[0.8888888888888888,\"#fdca26\"],[1.0,\"#f0f921\"]]}],\"choropleth\":[{\"type\":\"choropleth\",\"colorbar\":{\"outlinewidth\":0,\"ticks\":\"\"}}],\"histogram2d\":[{\"type\":\"histogram2d\",\"colorbar\":{\"outlinewidth\":0,\"ticks\":\"\"},\"colorscale\":[[0.0,\"#0d0887\"],[0.1111111111111111,\"#46039f\"],[0.2222222222222222,\"#7201a8\"],[0.3333333333333333,\"#9c179e\"],[0.4444444444444444,\"#bd3786\"],[0.5555555555555556,\"#d8576b\"],[0.6666666666666666,\"#ed7953\"],[0.7777777777777778,\"#fb9f3a\"],[0.8888888888888888,\"#fdca26\"],[1.0,\"#f0f921\"]]}],\"heatmap\":[{\"type\":\"heatmap\",\"colorbar\":{\"outlinewidth\":0,\"ticks\":\"\"},\"colorscale\":[[0.0,\"#0d0887\"],[0.1111111111111111,\"#46039f\"],[0.2222222222222222,\"#7201a8\"],[0.3333333333333333,\"#9c179e\"],[0.4444444444444444,\"#bd3786\"],[0.5555555555555556,\"#d8576b\"],[0.6666666666666666,\"#ed7953\"],[0.7777777777777778,\"#fb9f3a\"],[0.8888888888888888,\"#fdca26\"],[1.0,\"#f0f921\"]]}],\"heatmapgl\":[{\"type\":\"heatmapgl\",\"colorbar\":{\"outlinewidth\":0,\"ticks\":\"\"},\"colorscale\":[[0.0,\"#0d0887\"],[0.1111111111111111,\"#46039f\"],[0.2222222222222222,\"#7201a8\"],[0.3333333333333333,\"#9c179e\"],[0.4444444444444444,\"#bd3786\"],[0.5555555555555556,\"#d8576b\"],[0.6666666666666666,\"#ed7953\"],[0.7777777777777778,\"#fb9f3a\"],[0.8888888888888888,\"#fdca26\"],[1.0,\"#f0f921\"]]}],\"contourcarpet\":[{\"type\":\"contourcarpet\",\"colorbar\":{\"outlinewidth\":0,\"ticks\":\"\"}}],\"contour\":[{\"type\":\"contour\",\"colorbar\":{\"outlinewidth\":0,\"ticks\":\"\"},\"colorscale\":[[0.0,\"#0d0887\"],[0.1111111111111111,\"#46039f\"],[0.2222222222222222,\"#7201a8\"],[0.3333333333333333,\"#9c179e\"],[0.4444444444444444,\"#bd3786\"],[0.5555555555555556,\"#d8576b\"],[0.6666666666666666,\"#ed7953\"],[0.7777777777777778,\"#fb9f3a\"],[0.8888888888888888,\"#fdca26\"],[1.0,\"#f0f921\"]]}],\"surface\":[{\"type\":\"surface\",\"colorbar\":{\"outlinewidth\":0,\"ticks\":\"\"},\"colorscale\":[[0.0,\"#0d0887\"],[0.1111111111111111,\"#46039f\"],[0.2222222222222222,\"#7201a8\"],[0.3333333333333333,\"#9c179e\"],[0.4444444444444444,\"#bd3786\"],[0.5555555555555556,\"#d8576b\"],[0.6666666666666666,\"#ed7953\"],[0.7777777777777778,\"#fb9f3a\"],[0.8888888888888888,\"#fdca26\"],[1.0,\"#f0f921\"]]}],\"mesh3d\":[{\"type\":\"mesh3d\",\"colorbar\":{\"outlinewidth\":0,\"ticks\":\"\"}}],\"scatter\":[{\"fillpattern\":{\"fillmode\":\"overlay\",\"size\":10,\"solidity\":0.2},\"type\":\"scatter\"}],\"parcoords\":[{\"type\":\"parcoords\",\"line\":{\"colorbar\":{\"outlinewidth\":0,\"ticks\":\"\"}}}],\"scatterpolargl\":[{\"type\":\"scatterpolargl\",\"marker\":{\"colorbar\":{\"outlinewidth\":0,\"ticks\":\"\"}}}],\"bar\":[{\"error_x\":{\"color\":\"#2a3f5f\"},\"error_y\":{\"color\":\"#2a3f5f\"},\"marker\":{\"line\":{\"color\":\"#E5ECF6\",\"width\":0.5},\"pattern\":{\"fillmode\":\"overlay\",\"size\":10,\"solidity\":0.2}},\"type\":\"bar\"}],\"scattergeo\":[{\"type\":\"scattergeo\",\"marker\":{\"colorbar\":{\"outlinewidth\":0,\"ticks\":\"\"}}}],\"scatterpolar\":[{\"type\":\"scatterpolar\",\"marker\":{\"colorbar\":{\"outlinewidth\":0,\"ticks\":\"\"}}}],\"histogram\":[{\"marker\":{\"pattern\":{\"fillmode\":\"overlay\",\"size\":10,\"solidity\":0.2}},\"type\":\"histogram\"}],\"scattergl\":[{\"type\":\"scattergl\",\"marker\":{\"colorbar\":{\"outlinewidth\":0,\"ticks\":\"\"}}}],\"scatter3d\":[{\"type\":\"scatter3d\",\"line\":{\"colorbar\":{\"outlinewidth\":0,\"ticks\":\"\"}},\"marker\":{\"colorbar\":{\"outlinewidth\":0,\"ticks\":\"\"}}}],\"scattermapbox\":[{\"type\":\"scattermapbox\",\"marker\":{\"colorbar\":{\"outlinewidth\":0,\"ticks\":\"\"}}}],\"scatterternary\":[{\"type\":\"scatterternary\",\"marker\":{\"colorbar\":{\"outlinewidth\":0,\"ticks\":\"\"}}}],\"scattercarpet\":[{\"type\":\"scattercarpet\",\"marker\":{\"colorbar\":{\"outlinewidth\":0,\"ticks\":\"\"}}}],\"carpet\":[{\"aaxis\":{\"endlinecolor\":\"#2a3f5f\",\"gridcolor\":\"white\",\"linecolor\":\"white\",\"minorgridcolor\":\"white\",\"startlinecolor\":\"#2a3f5f\"},\"baxis\":{\"endlinecolor\":\"#2a3f5f\",\"gridcolor\":\"white\",\"linecolor\":\"white\",\"minorgridcolor\":\"white\",\"startlinecolor\":\"#2a3f5f\"},\"type\":\"carpet\"}],\"table\":[{\"cells\":{\"fill\":{\"color\":\"#EBF0F8\"},\"line\":{\"color\":\"white\"}},\"header\":{\"fill\":{\"color\":\"#C8D4E3\"},\"line\":{\"color\":\"white\"}},\"type\":\"table\"}],\"barpolar\":[{\"marker\":{\"line\":{\"color\":\"#E5ECF6\",\"width\":0.5},\"pattern\":{\"fillmode\":\"overlay\",\"size\":10,\"solidity\":0.2}},\"type\":\"barpolar\"}],\"pie\":[{\"automargin\":true,\"type\":\"pie\"}]},\"layout\":{\"autotypenumbers\":\"strict\",\"colorway\":[\"#636efa\",\"#EF553B\",\"#00cc96\",\"#ab63fa\",\"#FFA15A\",\"#19d3f3\",\"#FF6692\",\"#B6E880\",\"#FF97FF\",\"#FECB52\"],\"font\":{\"color\":\"#2a3f5f\"},\"hovermode\":\"closest\",\"hoverlabel\":{\"align\":\"left\"},\"paper_bgcolor\":\"white\",\"plot_bgcolor\":\"#E5ECF6\",\"polar\":{\"bgcolor\":\"#E5ECF6\",\"angularaxis\":{\"gridcolor\":\"white\",\"linecolor\":\"white\",\"ticks\":\"\"},\"radialaxis\":{\"gridcolor\":\"white\",\"linecolor\":\"white\",\"ticks\":\"\"}},\"ternary\":{\"bgcolor\":\"#E5ECF6\",\"aaxis\":{\"gridcolor\":\"white\",\"linecolor\":\"white\",\"ticks\":\"\"},\"baxis\":{\"gridcolor\":\"white\",\"linecolor\":\"white\",\"ticks\":\"\"},\"caxis\":{\"gridcolor\":\"white\",\"linecolor\":\"white\",\"ticks\":\"\"}},\"coloraxis\":{\"colorbar\":{\"outlinewidth\":0,\"ticks\":\"\"}},\"colorscale\":{\"sequential\":[[0.0,\"#0d0887\"],[0.1111111111111111,\"#46039f\"],[0.2222222222222222,\"#7201a8\"],[0.3333333333333333,\"#9c179e\"],[0.4444444444444444,\"#bd3786\"],[0.5555555555555556,\"#d8576b\"],[0.6666666666666666,\"#ed7953\"],[0.7777777777777778,\"#fb9f3a\"],[0.8888888888888888,\"#fdca26\"],[1.0,\"#f0f921\"]],\"sequentialminus\":[[0.0,\"#0d0887\"],[0.1111111111111111,\"#46039f\"],[0.2222222222222222,\"#7201a8\"],[0.3333333333333333,\"#9c179e\"],[0.4444444444444444,\"#bd3786\"],[0.5555555555555556,\"#d8576b\"],[0.6666666666666666,\"#ed7953\"],[0.7777777777777778,\"#fb9f3a\"],[0.8888888888888888,\"#fdca26\"],[1.0,\"#f0f921\"]],\"diverging\":[[0,\"#8e0152\"],[0.1,\"#c51b7d\"],[0.2,\"#de77ae\"],[0.3,\"#f1b6da\"],[0.4,\"#fde0ef\"],[0.5,\"#f7f7f7\"],[0.6,\"#e6f5d0\"],[0.7,\"#b8e186\"],[0.8,\"#7fbc41\"],[0.9,\"#4d9221\"],[1,\"#276419\"]]},\"xaxis\":{\"gridcolor\":\"white\",\"linecolor\":\"white\",\"ticks\":\"\",\"title\":{\"standoff\":15},\"zerolinecolor\":\"white\",\"automargin\":true,\"zerolinewidth\":2},\"yaxis\":{\"gridcolor\":\"white\",\"linecolor\":\"white\",\"ticks\":\"\",\"title\":{\"standoff\":15},\"zerolinecolor\":\"white\",\"automargin\":true,\"zerolinewidth\":2},\"scene\":{\"xaxis\":{\"backgroundcolor\":\"#E5ECF6\",\"gridcolor\":\"white\",\"linecolor\":\"white\",\"showbackground\":true,\"ticks\":\"\",\"zerolinecolor\":\"white\",\"gridwidth\":2},\"yaxis\":{\"backgroundcolor\":\"#E5ECF6\",\"gridcolor\":\"white\",\"linecolor\":\"white\",\"showbackground\":true,\"ticks\":\"\",\"zerolinecolor\":\"white\",\"gridwidth\":2},\"zaxis\":{\"backgroundcolor\":\"#E5ECF6\",\"gridcolor\":\"white\",\"linecolor\":\"white\",\"showbackground\":true,\"ticks\":\"\",\"zerolinecolor\":\"white\",\"gridwidth\":2}},\"shapedefaults\":{\"line\":{\"color\":\"#2a3f5f\"}},\"annotationdefaults\":{\"arrowcolor\":\"#2a3f5f\",\"arrowhead\":0,\"arrowwidth\":1},\"geo\":{\"bgcolor\":\"white\",\"landcolor\":\"#E5ECF6\",\"subunitcolor\":\"white\",\"showland\":true,\"showlakes\":true,\"lakecolor\":\"white\"},\"title\":{\"x\":0.05},\"mapbox\":{\"style\":\"light\"}}},\"xaxis\":{\"anchor\":\"y\",\"domain\":[0.0,1.0],\"title\":{\"text\":\"age\"}},\"yaxis\":{\"anchor\":\"x\",\"domain\":[0.0,1.0],\"title\":{\"text\":\"thalach\"}},\"legend\":{\"tracegroupgap\":0},\"title\":{\"text\":\"Scatter Plot Of thalach By age\"}},                        {\"responsive\": true}                    ).then(function(){\n",
              "                            \n",
              "var gd = document.getElementById('51a4b55d-22a0-4250-920f-0554fb41107b');\n",
              "var x = new MutationObserver(function (mutations, observer) {{\n",
              "        var display = window.getComputedStyle(gd).display;\n",
              "        if (!display || display === 'none') {{\n",
              "            console.log([gd, 'removed!']);\n",
              "            Plotly.purge(gd);\n",
              "            observer.disconnect();\n",
              "        }}\n",
              "}});\n",
              "\n",
              "// Listen for the removal of the full notebook cells\n",
              "var notebookContainer = gd.closest('#notebook-container');\n",
              "if (notebookContainer) {{\n",
              "    x.observe(notebookContainer, {childList: true});\n",
              "}}\n",
              "\n",
              "// Listen for the clearing of the current output cell\n",
              "var outputEl = gd.closest('.output');\n",
              "if (outputEl) {{\n",
              "    x.observe(outputEl, {childList: true});\n",
              "}}\n",
              "\n",
              "                        })                };                            </script>        </div>\n",
              "</body>\n",
              "</html>"
            ]
          },
          "metadata": {}
        }
      ]
    },
    {
      "cell_type": "markdown",
      "source": [
        "*· There is a weak negative linear relationship between the max heart rate and age.*\n",
        "\n",
        "*· (Explanation of whether it was what the student expected.)*"
      ],
      "metadata": {
        "id": "i039gb9GlgTZ"
      }
    },
    {
      "cell_type": "markdown",
      "source": [
        "### 2. Compute and interpret the values of the correlation coefficient between the two variables"
      ],
      "metadata": {
        "id": "ZexQSBv2jNhF"
      }
    },
    {
      "cell_type": "markdown",
      "source": [
        "#### A-M"
      ],
      "metadata": {
        "id": "amqw3WiirZv9"
      }
    },
    {
      "cell_type": "code",
      "source": [
        "# Using Pandas Dataframes and Numpy calculations we are able to make the correct computations and place those\n",
        "# values in a new Dataframe with their own respective column names and values\n",
        "\n",
        "chol = df['chol'].values\n",
        "trestbps = df['trestbps'].values\n",
        "\n",
        "R_AM = round(np.corrcoef(chol,trestbps)[0,1],3) # R\n",
        "R2_AM = round(R_AM**2,3) # R^2\n",
        "\n",
        "observations = len(df['chol']) + len(df['trestbps'])\n",
        "A_R2_AM = round(1 - (1-R2_AM) * (observations-1) / (observations - 2 - 1),3) # Adjusted R^2\n",
        "\n",
        "# Compute residuals\n",
        "residuals = trestbps - R_AM * chol\n",
        "\n",
        "# Compute the standard error of the estimate\n",
        "std_error = np.sqrt(np.sum(residuals ** 2) / (len(chol)- 2))\n",
        "# Standard Error = 17.43\n",
        "\n",
        "model_summary_AM = pd.DataFrame([[R_AM, R2_AM, A_R2_AM, 17.43]],columns=['R','R Square','Adj. R Square','Std. Error Of Estimate'])\n",
        "\n",
        "\n",
        "model_summary_AM"
      ],
      "metadata": {
        "id": "Bdzm-QzdjQJO",
        "outputId": "48a2ad3d-82e0-4622-d16f-189eb96f5850",
        "colab": {
          "base_uri": "https://localhost:8080/",
          "height": 89
        }
      },
      "execution_count": 4,
      "outputs": [
        {
          "output_type": "execute_result",
          "data": {
            "text/plain": [
              "       R  R Square  Adj. R Square  Std. Error Of Estimate\n",
              "0  0.123     0.015          0.012                   17.43"
            ],
            "text/html": [
              "\n",
              "  <div id=\"df-82bbc1cf-8e89-4bd5-856c-5e77728f2555\" class=\"colab-df-container\">\n",
              "    <div>\n",
              "<style scoped>\n",
              "    .dataframe tbody tr th:only-of-type {\n",
              "        vertical-align: middle;\n",
              "    }\n",
              "\n",
              "    .dataframe tbody tr th {\n",
              "        vertical-align: top;\n",
              "    }\n",
              "\n",
              "    .dataframe thead th {\n",
              "        text-align: right;\n",
              "    }\n",
              "</style>\n",
              "<table border=\"1\" class=\"dataframe\">\n",
              "  <thead>\n",
              "    <tr style=\"text-align: right;\">\n",
              "      <th></th>\n",
              "      <th>R</th>\n",
              "      <th>R Square</th>\n",
              "      <th>Adj. R Square</th>\n",
              "      <th>Std. Error Of Estimate</th>\n",
              "    </tr>\n",
              "  </thead>\n",
              "  <tbody>\n",
              "    <tr>\n",
              "      <th>0</th>\n",
              "      <td>0.123</td>\n",
              "      <td>0.015</td>\n",
              "      <td>0.012</td>\n",
              "      <td>17.43</td>\n",
              "    </tr>\n",
              "  </tbody>\n",
              "</table>\n",
              "</div>\n",
              "    <div class=\"colab-df-buttons\">\n",
              "\n",
              "  <div class=\"colab-df-container\">\n",
              "    <button class=\"colab-df-convert\" onclick=\"convertToInteractive('df-82bbc1cf-8e89-4bd5-856c-5e77728f2555')\"\n",
              "            title=\"Convert this dataframe to an interactive table.\"\n",
              "            style=\"display:none;\">\n",
              "\n",
              "  <svg xmlns=\"http://www.w3.org/2000/svg\" height=\"24px\" viewBox=\"0 -960 960 960\">\n",
              "    <path d=\"M120-120v-720h720v720H120Zm60-500h600v-160H180v160Zm220 220h160v-160H400v160Zm0 220h160v-160H400v160ZM180-400h160v-160H180v160Zm440 0h160v-160H620v160ZM180-180h160v-160H180v160Zm440 0h160v-160H620v160Z\"/>\n",
              "  </svg>\n",
              "    </button>\n",
              "\n",
              "  <style>\n",
              "    .colab-df-container {\n",
              "      display:flex;\n",
              "      gap: 12px;\n",
              "    }\n",
              "\n",
              "    .colab-df-convert {\n",
              "      background-color: #E8F0FE;\n",
              "      border: none;\n",
              "      border-radius: 50%;\n",
              "      cursor: pointer;\n",
              "      display: none;\n",
              "      fill: #1967D2;\n",
              "      height: 32px;\n",
              "      padding: 0 0 0 0;\n",
              "      width: 32px;\n",
              "    }\n",
              "\n",
              "    .colab-df-convert:hover {\n",
              "      background-color: #E2EBFA;\n",
              "      box-shadow: 0px 1px 2px rgba(60, 64, 67, 0.3), 0px 1px 3px 1px rgba(60, 64, 67, 0.15);\n",
              "      fill: #174EA6;\n",
              "    }\n",
              "\n",
              "    .colab-df-buttons div {\n",
              "      margin-bottom: 4px;\n",
              "    }\n",
              "\n",
              "    [theme=dark] .colab-df-convert {\n",
              "      background-color: #3B4455;\n",
              "      fill: #D2E3FC;\n",
              "    }\n",
              "\n",
              "    [theme=dark] .colab-df-convert:hover {\n",
              "      background-color: #434B5C;\n",
              "      box-shadow: 0px 1px 3px 1px rgba(0, 0, 0, 0.15);\n",
              "      filter: drop-shadow(0px 1px 2px rgba(0, 0, 0, 0.3));\n",
              "      fill: #FFFFFF;\n",
              "    }\n",
              "  </style>\n",
              "\n",
              "    <script>\n",
              "      const buttonEl =\n",
              "        document.querySelector('#df-82bbc1cf-8e89-4bd5-856c-5e77728f2555 button.colab-df-convert');\n",
              "      buttonEl.style.display =\n",
              "        google.colab.kernel.accessAllowed ? 'block' : 'none';\n",
              "\n",
              "      async function convertToInteractive(key) {\n",
              "        const element = document.querySelector('#df-82bbc1cf-8e89-4bd5-856c-5e77728f2555');\n",
              "        const dataTable =\n",
              "          await google.colab.kernel.invokeFunction('convertToInteractive',\n",
              "                                                    [key], {});\n",
              "        if (!dataTable) return;\n",
              "\n",
              "        const docLinkHtml = 'Like what you see? Visit the ' +\n",
              "          '<a target=\"_blank\" href=https://colab.research.google.com/notebooks/data_table.ipynb>data table notebook</a>'\n",
              "          + ' to learn more about interactive tables.';\n",
              "        element.innerHTML = '';\n",
              "        dataTable['output_type'] = 'display_data';\n",
              "        await google.colab.output.renderOutput(dataTable, element);\n",
              "        const docLink = document.createElement('div');\n",
              "        docLink.innerHTML = docLinkHtml;\n",
              "        element.appendChild(docLink);\n",
              "      }\n",
              "    </script>\n",
              "  </div>\n",
              "\n",
              "\n",
              "  <div id=\"id_26990923-7c62-42eb-a56d-75e4a64840c2\">\n",
              "    <style>\n",
              "      .colab-df-generate {\n",
              "        background-color: #E8F0FE;\n",
              "        border: none;\n",
              "        border-radius: 50%;\n",
              "        cursor: pointer;\n",
              "        display: none;\n",
              "        fill: #1967D2;\n",
              "        height: 32px;\n",
              "        padding: 0 0 0 0;\n",
              "        width: 32px;\n",
              "      }\n",
              "\n",
              "      .colab-df-generate:hover {\n",
              "        background-color: #E2EBFA;\n",
              "        box-shadow: 0px 1px 2px rgba(60, 64, 67, 0.3), 0px 1px 3px 1px rgba(60, 64, 67, 0.15);\n",
              "        fill: #174EA6;\n",
              "      }\n",
              "\n",
              "      [theme=dark] .colab-df-generate {\n",
              "        background-color: #3B4455;\n",
              "        fill: #D2E3FC;\n",
              "      }\n",
              "\n",
              "      [theme=dark] .colab-df-generate:hover {\n",
              "        background-color: #434B5C;\n",
              "        box-shadow: 0px 1px 3px 1px rgba(0, 0, 0, 0.15);\n",
              "        filter: drop-shadow(0px 1px 2px rgba(0, 0, 0, 0.3));\n",
              "        fill: #FFFFFF;\n",
              "      }\n",
              "    </style>\n",
              "    <button class=\"colab-df-generate\" onclick=\"generateWithVariable('model_summary_AM')\"\n",
              "            title=\"Generate code using this dataframe.\"\n",
              "            style=\"display:none;\">\n",
              "\n",
              "  <svg xmlns=\"http://www.w3.org/2000/svg\" height=\"24px\"viewBox=\"0 0 24 24\"\n",
              "       width=\"24px\">\n",
              "    <path d=\"M7,19H8.4L18.45,9,17,7.55,7,17.6ZM5,21V16.75L18.45,3.32a2,2,0,0,1,2.83,0l1.4,1.43a1.91,1.91,0,0,1,.58,1.4,1.91,1.91,0,0,1-.58,1.4L9.25,21ZM18.45,9,17,7.55Zm-12,3A5.31,5.31,0,0,0,4.9,8.1,5.31,5.31,0,0,0,1,6.5,5.31,5.31,0,0,0,4.9,4.9,5.31,5.31,0,0,0,6.5,1,5.31,5.31,0,0,0,8.1,4.9,5.31,5.31,0,0,0,12,6.5,5.46,5.46,0,0,0,6.5,12Z\"/>\n",
              "  </svg>\n",
              "    </button>\n",
              "    <script>\n",
              "      (() => {\n",
              "      const buttonEl =\n",
              "        document.querySelector('#id_26990923-7c62-42eb-a56d-75e4a64840c2 button.colab-df-generate');\n",
              "      buttonEl.style.display =\n",
              "        google.colab.kernel.accessAllowed ? 'block' : 'none';\n",
              "\n",
              "      buttonEl.onclick = () => {\n",
              "        google.colab.notebook.generateWithVariable('model_summary_AM');\n",
              "      }\n",
              "      })();\n",
              "    </script>\n",
              "  </div>\n",
              "\n",
              "    </div>\n",
              "  </div>\n"
            ],
            "application/vnd.google.colaboratory.intrinsic+json": {
              "type": "dataframe",
              "variable_name": "model_summary_AM",
              "summary": "{\n  \"name\": \"model_summary_AM\",\n  \"rows\": 1,\n  \"fields\": [\n    {\n      \"column\": \"R\",\n      \"properties\": {\n        \"dtype\": \"number\",\n        \"std\": null,\n        \"min\": 0.123,\n        \"max\": 0.123,\n        \"num_unique_values\": 1,\n        \"samples\": [\n          0.123\n        ],\n        \"semantic_type\": \"\",\n        \"description\": \"\"\n      }\n    },\n    {\n      \"column\": \"R Square\",\n      \"properties\": {\n        \"dtype\": \"number\",\n        \"std\": null,\n        \"min\": 0.015,\n        \"max\": 0.015,\n        \"num_unique_values\": 1,\n        \"samples\": [\n          0.015\n        ],\n        \"semantic_type\": \"\",\n        \"description\": \"\"\n      }\n    },\n    {\n      \"column\": \"Adj. R Square\",\n      \"properties\": {\n        \"dtype\": \"number\",\n        \"std\": null,\n        \"min\": 0.012,\n        \"max\": 0.012,\n        \"num_unique_values\": 1,\n        \"samples\": [\n          0.012\n        ],\n        \"semantic_type\": \"\",\n        \"description\": \"\"\n      }\n    },\n    {\n      \"column\": \"Std. Error Of Estimate\",\n      \"properties\": {\n        \"dtype\": \"number\",\n        \"std\": null,\n        \"min\": 17.43,\n        \"max\": 17.43,\n        \"num_unique_values\": 1,\n        \"samples\": [\n          17.43\n        ],\n        \"semantic_type\": \"\",\n        \"description\": \"\"\n      }\n    }\n  ]\n}"
            }
          },
          "metadata": {},
          "execution_count": 4
        }
      ]
    },
    {
      "cell_type": "markdown",
      "source": [
        "a. Predictors: (Constant), Serum Cholestrol (mg/dl)\n",
        "\n",
        "· There is a weak positive linear relationship between the resting blood pressure and cholesterol."
      ],
      "metadata": {
        "id": "BxeDf_VLrKfh"
      }
    },
    {
      "cell_type": "markdown",
      "source": [
        "#### N-Z"
      ],
      "metadata": {
        "id": "FqdNYJv8rcsp"
      }
    },
    {
      "cell_type": "code",
      "source": [
        "# Using Pandas Dataframes and Numpy calculations we are able to make the correct computations and place those\n",
        "# values in a new Dataframe with their own respective column names and values\n",
        "age = df['age'].values\n",
        "thalach = df['thalach'].values\n",
        "\n",
        "R_NZ = abs(round(np.corrcoef(age,thalach)[0,1],3)) # R\n",
        "R2_NZ = round(R_NZ**2,3) # R^2\n",
        "\n",
        "observations_NZ = len(df['age']) + len(df['thalach'])\n",
        "A_R2_NZ = round(1 - (1-R2_NZ) * (observations_NZ-1) / (observations_NZ - 2 - 1),3) # Adjusted R^2\n",
        "\n",
        "# Compute residuals\n",
        "residuals_NZ = thalach - R_NZ * age\n",
        "# Compute the standard error of the estimate\n",
        "std_error_NZ = np.sqrt(np.sum(residuals_NZ ** 2) / (len(age)- 2))\n",
        "# Standard Error = 21.04\n",
        "\n",
        "model_summary_NZ = pd.DataFrame([[R_NZ, R2_NZ, A_R2_NZ, 21.04]], columns=['R', 'R Square','Adj. R Square', 'Std. Error Of Estimate'])\n",
        "model_summary_NZ"
      ],
      "metadata": {
        "id": "1acj8f0XreaM",
        "outputId": "738aaeaf-fcc1-4d01-98e0-f7e58e0baa3c",
        "colab": {
          "base_uri": "https://localhost:8080/",
          "height": 89
        }
      },
      "execution_count": 5,
      "outputs": [
        {
          "output_type": "execute_result",
          "data": {
            "text/plain": [
              "       R  R Square  Adj. R Square  Std. Error Of Estimate\n",
              "0  0.399     0.159          0.156                   21.04"
            ],
            "text/html": [
              "\n",
              "  <div id=\"df-bf7b7687-da52-4e50-847c-059dfa732888\" class=\"colab-df-container\">\n",
              "    <div>\n",
              "<style scoped>\n",
              "    .dataframe tbody tr th:only-of-type {\n",
              "        vertical-align: middle;\n",
              "    }\n",
              "\n",
              "    .dataframe tbody tr th {\n",
              "        vertical-align: top;\n",
              "    }\n",
              "\n",
              "    .dataframe thead th {\n",
              "        text-align: right;\n",
              "    }\n",
              "</style>\n",
              "<table border=\"1\" class=\"dataframe\">\n",
              "  <thead>\n",
              "    <tr style=\"text-align: right;\">\n",
              "      <th></th>\n",
              "      <th>R</th>\n",
              "      <th>R Square</th>\n",
              "      <th>Adj. R Square</th>\n",
              "      <th>Std. Error Of Estimate</th>\n",
              "    </tr>\n",
              "  </thead>\n",
              "  <tbody>\n",
              "    <tr>\n",
              "      <th>0</th>\n",
              "      <td>0.399</td>\n",
              "      <td>0.159</td>\n",
              "      <td>0.156</td>\n",
              "      <td>21.04</td>\n",
              "    </tr>\n",
              "  </tbody>\n",
              "</table>\n",
              "</div>\n",
              "    <div class=\"colab-df-buttons\">\n",
              "\n",
              "  <div class=\"colab-df-container\">\n",
              "    <button class=\"colab-df-convert\" onclick=\"convertToInteractive('df-bf7b7687-da52-4e50-847c-059dfa732888')\"\n",
              "            title=\"Convert this dataframe to an interactive table.\"\n",
              "            style=\"display:none;\">\n",
              "\n",
              "  <svg xmlns=\"http://www.w3.org/2000/svg\" height=\"24px\" viewBox=\"0 -960 960 960\">\n",
              "    <path d=\"M120-120v-720h720v720H120Zm60-500h600v-160H180v160Zm220 220h160v-160H400v160Zm0 220h160v-160H400v160ZM180-400h160v-160H180v160Zm440 0h160v-160H620v160ZM180-180h160v-160H180v160Zm440 0h160v-160H620v160Z\"/>\n",
              "  </svg>\n",
              "    </button>\n",
              "\n",
              "  <style>\n",
              "    .colab-df-container {\n",
              "      display:flex;\n",
              "      gap: 12px;\n",
              "    }\n",
              "\n",
              "    .colab-df-convert {\n",
              "      background-color: #E8F0FE;\n",
              "      border: none;\n",
              "      border-radius: 50%;\n",
              "      cursor: pointer;\n",
              "      display: none;\n",
              "      fill: #1967D2;\n",
              "      height: 32px;\n",
              "      padding: 0 0 0 0;\n",
              "      width: 32px;\n",
              "    }\n",
              "\n",
              "    .colab-df-convert:hover {\n",
              "      background-color: #E2EBFA;\n",
              "      box-shadow: 0px 1px 2px rgba(60, 64, 67, 0.3), 0px 1px 3px 1px rgba(60, 64, 67, 0.15);\n",
              "      fill: #174EA6;\n",
              "    }\n",
              "\n",
              "    .colab-df-buttons div {\n",
              "      margin-bottom: 4px;\n",
              "    }\n",
              "\n",
              "    [theme=dark] .colab-df-convert {\n",
              "      background-color: #3B4455;\n",
              "      fill: #D2E3FC;\n",
              "    }\n",
              "\n",
              "    [theme=dark] .colab-df-convert:hover {\n",
              "      background-color: #434B5C;\n",
              "      box-shadow: 0px 1px 3px 1px rgba(0, 0, 0, 0.15);\n",
              "      filter: drop-shadow(0px 1px 2px rgba(0, 0, 0, 0.3));\n",
              "      fill: #FFFFFF;\n",
              "    }\n",
              "  </style>\n",
              "\n",
              "    <script>\n",
              "      const buttonEl =\n",
              "        document.querySelector('#df-bf7b7687-da52-4e50-847c-059dfa732888 button.colab-df-convert');\n",
              "      buttonEl.style.display =\n",
              "        google.colab.kernel.accessAllowed ? 'block' : 'none';\n",
              "\n",
              "      async function convertToInteractive(key) {\n",
              "        const element = document.querySelector('#df-bf7b7687-da52-4e50-847c-059dfa732888');\n",
              "        const dataTable =\n",
              "          await google.colab.kernel.invokeFunction('convertToInteractive',\n",
              "                                                    [key], {});\n",
              "        if (!dataTable) return;\n",
              "\n",
              "        const docLinkHtml = 'Like what you see? Visit the ' +\n",
              "          '<a target=\"_blank\" href=https://colab.research.google.com/notebooks/data_table.ipynb>data table notebook</a>'\n",
              "          + ' to learn more about interactive tables.';\n",
              "        element.innerHTML = '';\n",
              "        dataTable['output_type'] = 'display_data';\n",
              "        await google.colab.output.renderOutput(dataTable, element);\n",
              "        const docLink = document.createElement('div');\n",
              "        docLink.innerHTML = docLinkHtml;\n",
              "        element.appendChild(docLink);\n",
              "      }\n",
              "    </script>\n",
              "  </div>\n",
              "\n",
              "\n",
              "  <div id=\"id_4df21720-60c5-4d42-aedc-1f86147e47d8\">\n",
              "    <style>\n",
              "      .colab-df-generate {\n",
              "        background-color: #E8F0FE;\n",
              "        border: none;\n",
              "        border-radius: 50%;\n",
              "        cursor: pointer;\n",
              "        display: none;\n",
              "        fill: #1967D2;\n",
              "        height: 32px;\n",
              "        padding: 0 0 0 0;\n",
              "        width: 32px;\n",
              "      }\n",
              "\n",
              "      .colab-df-generate:hover {\n",
              "        background-color: #E2EBFA;\n",
              "        box-shadow: 0px 1px 2px rgba(60, 64, 67, 0.3), 0px 1px 3px 1px rgba(60, 64, 67, 0.15);\n",
              "        fill: #174EA6;\n",
              "      }\n",
              "\n",
              "      [theme=dark] .colab-df-generate {\n",
              "        background-color: #3B4455;\n",
              "        fill: #D2E3FC;\n",
              "      }\n",
              "\n",
              "      [theme=dark] .colab-df-generate:hover {\n",
              "        background-color: #434B5C;\n",
              "        box-shadow: 0px 1px 3px 1px rgba(0, 0, 0, 0.15);\n",
              "        filter: drop-shadow(0px 1px 2px rgba(0, 0, 0, 0.3));\n",
              "        fill: #FFFFFF;\n",
              "      }\n",
              "    </style>\n",
              "    <button class=\"colab-df-generate\" onclick=\"generateWithVariable('model_summary_NZ')\"\n",
              "            title=\"Generate code using this dataframe.\"\n",
              "            style=\"display:none;\">\n",
              "\n",
              "  <svg xmlns=\"http://www.w3.org/2000/svg\" height=\"24px\"viewBox=\"0 0 24 24\"\n",
              "       width=\"24px\">\n",
              "    <path d=\"M7,19H8.4L18.45,9,17,7.55,7,17.6ZM5,21V16.75L18.45,3.32a2,2,0,0,1,2.83,0l1.4,1.43a1.91,1.91,0,0,1,.58,1.4,1.91,1.91,0,0,1-.58,1.4L9.25,21ZM18.45,9,17,7.55Zm-12,3A5.31,5.31,0,0,0,4.9,8.1,5.31,5.31,0,0,0,1,6.5,5.31,5.31,0,0,0,4.9,4.9,5.31,5.31,0,0,0,6.5,1,5.31,5.31,0,0,0,8.1,4.9,5.31,5.31,0,0,0,12,6.5,5.46,5.46,0,0,0,6.5,12Z\"/>\n",
              "  </svg>\n",
              "    </button>\n",
              "    <script>\n",
              "      (() => {\n",
              "      const buttonEl =\n",
              "        document.querySelector('#id_4df21720-60c5-4d42-aedc-1f86147e47d8 button.colab-df-generate');\n",
              "      buttonEl.style.display =\n",
              "        google.colab.kernel.accessAllowed ? 'block' : 'none';\n",
              "\n",
              "      buttonEl.onclick = () => {\n",
              "        google.colab.notebook.generateWithVariable('model_summary_NZ');\n",
              "      }\n",
              "      })();\n",
              "    </script>\n",
              "  </div>\n",
              "\n",
              "    </div>\n",
              "  </div>\n"
            ],
            "application/vnd.google.colaboratory.intrinsic+json": {
              "type": "dataframe",
              "variable_name": "model_summary_NZ",
              "summary": "{\n  \"name\": \"model_summary_NZ\",\n  \"rows\": 1,\n  \"fields\": [\n    {\n      \"column\": \"R\",\n      \"properties\": {\n        \"dtype\": \"number\",\n        \"std\": null,\n        \"min\": 0.399,\n        \"max\": 0.399,\n        \"num_unique_values\": 1,\n        \"samples\": [\n          0.399\n        ],\n        \"semantic_type\": \"\",\n        \"description\": \"\"\n      }\n    },\n    {\n      \"column\": \"R Square\",\n      \"properties\": {\n        \"dtype\": \"number\",\n        \"std\": null,\n        \"min\": 0.159,\n        \"max\": 0.159,\n        \"num_unique_values\": 1,\n        \"samples\": [\n          0.159\n        ],\n        \"semantic_type\": \"\",\n        \"description\": \"\"\n      }\n    },\n    {\n      \"column\": \"Adj. R Square\",\n      \"properties\": {\n        \"dtype\": \"number\",\n        \"std\": null,\n        \"min\": 0.156,\n        \"max\": 0.156,\n        \"num_unique_values\": 1,\n        \"samples\": [\n          0.156\n        ],\n        \"semantic_type\": \"\",\n        \"description\": \"\"\n      }\n    },\n    {\n      \"column\": \"Std. Error Of Estimate\",\n      \"properties\": {\n        \"dtype\": \"number\",\n        \"std\": null,\n        \"min\": 21.04,\n        \"max\": 21.04,\n        \"num_unique_values\": 1,\n        \"samples\": [\n          21.04\n        ],\n        \"semantic_type\": \"\",\n        \"description\": \"\"\n      }\n    }\n  ]\n}"
            }
          },
          "metadata": {},
          "execution_count": 5
        }
      ]
    },
    {
      "cell_type": "markdown",
      "source": [
        "a. Predictors: (Constant), age\n",
        "\n",
        "· There is a weak negative linear relationship between the max heart rate and age."
      ],
      "metadata": {
        "id": "eCI0hYFLreoX"
      }
    },
    {
      "cell_type": "markdown",
      "source": [
        "### 3. Compute the least squares regression line describing the relationships between the dependent and independent variable. Add the regression line to the scatterplot. Paste the new scatterplot and the output table below. Then type out the prediction equation."
      ],
      "metadata": {
        "id": "HDK8lH9mjQvw"
      }
    },
    {
      "cell_type": "markdown",
      "source": [
        "####A-M"
      ],
      "metadata": {
        "id": "W_HJvEUSHIyy"
      }
    },
    {
      "cell_type": "code",
      "source": [
        "# Computing the least squares regression line\n",
        "slope_AM, intercept_AM = np.polyfit(chol, trestbps, 1)\n",
        "\n",
        "regression_line_AM = slope_AM * df['chol'] + intercept_AM\n",
        "\n",
        "fig2_AM = fig1AM.add_scatter(x=df['chol'], y=regression_line_AM, mode='lines', name='Regression Line')\n",
        "\n",
        "fig2_AM\n"
      ],
      "metadata": {
        "id": "6QCjSAh1jRBt",
        "outputId": "0a3a95ef-c530-44ac-fc97-a39e19015f8d",
        "colab": {
          "base_uri": "https://localhost:8080/",
          "height": 542
        }
      },
      "execution_count": 6,
      "outputs": [
        {
          "output_type": "display_data",
          "data": {
            "text/html": [
              "<html>\n",
              "<head><meta charset=\"utf-8\" /></head>\n",
              "<body>\n",
              "    <div>            <script src=\"https://cdnjs.cloudflare.com/ajax/libs/mathjax/2.7.5/MathJax.js?config=TeX-AMS-MML_SVG\"></script><script type=\"text/javascript\">if (window.MathJax && window.MathJax.Hub && window.MathJax.Hub.Config) {window.MathJax.Hub.Config({SVG: {font: \"STIX-Web\"}});}</script>                <script type=\"text/javascript\">window.PlotlyConfig = {MathJaxConfig: 'local'};</script>\n",
              "        <script charset=\"utf-8\" src=\"https://cdn.plot.ly/plotly-2.24.1.min.js\"></script>                <div id=\"b79fda0c-05e9-4faf-b394-5ecc697b0d35\" class=\"plotly-graph-div\" style=\"height:525px; width:100%;\"></div>            <script type=\"text/javascript\">                                    window.PLOTLYENV=window.PLOTLYENV || {};                                    if (document.getElementById(\"b79fda0c-05e9-4faf-b394-5ecc697b0d35\")) {                    Plotly.newPlot(                        \"b79fda0c-05e9-4faf-b394-5ecc697b0d35\",                        [{\"hovertemplate\":\"chol=%{x}\\u003cbr\\u003etrestbps=%{y}\\u003cextra\\u003e\\u003c\\u002fextra\\u003e\",\"legendgroup\":\"\",\"marker\":{\"color\":\"#636efa\",\"symbol\":\"circle\"},\"mode\":\"markers\",\"name\":\"\",\"orientation\":\"v\",\"showlegend\":false,\"x\":[233,250,204,236,354,192,294,263,199,168,239,275,266,211,283,219,340,226,247,239,234,233,226,243,199,302,212,175,417,197,198,177,219,273,213,177,304,232,269,360,308,245,208,264,321,325,235,257,216,234,256,302,231,141,252,201,222,260,182,303,265,309,186,203,211,183,222,234,220,209,258,227,204,261,213,250,245,221,205,240,250,308,318,298,265,564,277,197,214,248,255,207,223,288,160,226,394,233,315,246,244,270,195,240,196,211,234,236,244,254,325,126,313,211,262,215,214,193,204,243,303,271,268,267,199,210,204,277,196,269,201,271,295,235,306,269,178,208,201,263,295,303,209,223,197,245,242,240,226,180,228,149,227,278,220,197,253,192,220,221,240,342,157,175,175,286,229,268,254,203,256,229,284,224,206,167,230,335,177,276,353,225,330,230,243,290,253,266,233,172,305,216,188,282,185,326,231,254,267,248,197,258,270,274,164,255,239,258,188,177,229,260,219,307,249,341,263,330,254,256,407,217,282,288,239,174,281,198,288,309,243,289,289,246,322,299,300,293,304,282,269,249,212,274,184,274,409,246,283,254,298,247,294,299,273,309,259,200,244,231,228,230,282,269,206,212,327,149,286,283,249,234,237,234,275,212,218,261,319,166,315,204,218,223,207,311,204,232,335,205,203,318,225,212,169,187,197,176,241,264,193,131,236],\"xaxis\":\"x\",\"y\":[145,130,130,120,120,140,140,120,172,150,140,130,130,110,150,120,120,150,150,140,135,130,140,150,140,160,150,110,140,130,105,120,130,125,125,142,135,150,155,160,140,130,104,130,140,120,140,138,128,138,130,120,130,108,135,134,122,115,118,128,110,108,118,135,140,138,100,130,120,124,120,94,130,140,122,135,125,140,128,105,112,128,102,152,102,115,118,101,110,100,124,132,138,132,112,142,140,108,130,130,148,178,140,120,129,120,160,138,120,110,180,150,140,110,130,120,130,120,105,138,130,138,112,108,94,118,112,152,136,120,160,134,120,110,126,130,120,128,110,128,120,115,120,106,140,156,118,150,120,130,160,112,170,146,138,130,130,122,125,130,120,132,120,138,138,160,120,140,130,140,130,110,120,132,130,110,117,140,120,150,132,150,130,112,150,112,130,124,140,110,130,128,120,145,140,170,150,125,120,110,110,125,150,180,160,128,110,150,120,140,128,120,118,145,125,132,130,130,135,130,150,140,138,200,110,145,120,120,170,125,108,165,160,120,130,140,125,140,125,126,160,174,145,152,132,124,134,160,192,140,140,132,138,100,160,142,128,144,150,120,178,112,123,108,110,112,180,118,122,130,120,134,120,100,110,125,146,124,136,138,136,128,126,152,140,140,134,154,110,128,148,114,170,152,120,140,124,164,140,110,144,130,130],\"yaxis\":\"y\",\"type\":\"scatter\"},{\"mode\":\"lines\",\"name\":\"Regression Line\",\"x\":[233,250,204,236,354,192,294,263,199,168,239,275,266,211,283,219,340,226,247,239,234,233,226,243,199,302,212,175,417,197,198,177,219,273,213,177,304,232,269,360,308,245,208,264,321,325,235,257,216,234,256,302,231,141,252,201,222,260,182,303,265,309,186,203,211,183,222,234,220,209,258,227,204,261,213,250,245,221,205,240,250,308,318,298,265,564,277,197,214,248,255,207,223,288,160,226,394,233,315,246,244,270,195,240,196,211,234,236,244,254,325,126,313,211,262,215,214,193,204,243,303,271,268,267,199,210,204,277,196,269,201,271,295,235,306,269,178,208,201,263,295,303,209,223,197,245,242,240,226,180,228,149,227,278,220,197,253,192,220,221,240,342,157,175,175,286,229,268,254,203,256,229,284,224,206,167,230,335,177,276,353,225,330,230,243,290,253,266,233,172,305,216,188,282,185,326,231,254,267,248,197,258,270,274,164,255,239,258,188,177,229,260,219,307,249,341,263,330,254,256,407,217,282,288,239,174,281,198,288,309,243,289,289,246,322,299,300,293,304,282,269,249,212,274,184,274,409,246,283,254,298,247,294,299,273,309,259,200,244,231,228,230,282,269,206,212,327,149,286,283,249,234,237,234,275,212,218,261,319,166,315,204,218,223,207,311,204,232,335,205,203,318,225,212,169,187,197,176,241,264,193,131,236],\"y\":[131.07093282277222,131.77947351197363,129.86224576472276,131.19596941498423,136.1140753753234,129.3620993958747,133.61334353108316,132.32129874489235,129.65385144436942,128.3618066581786,131.32100600719625,132.8214451137404,132.44633533710436,130.15399781321747,133.15487602630577,130.48742872578282,135.530571278334,130.77918077427753,131.65443691976162,131.32100600719625,131.1126116868429,131.07093282277222,130.77918077427753,131.48772146347892,129.65385144436942,133.9467744436485,130.19567667728813,128.65355870667332,138.73984381177567,129.57049371622807,129.61217258029873,128.73691643481465,130.48742872578282,132.73808738559907,130.2373555413588,128.73691643481465,134.03013217178986,131.02925395870156,132.57137192931637,136.36414855974743,134.19684762807253,131.57107919162027,130.02896122100546,132.36297760896304,134.73867286099127,134.90538831727395,131.15429055091357,132.07122556046832,130.3623921335708,131.1126116868429,132.02954669639766,133.9467744436485,130.98757509463087,127.23647732827051,131.86283124011499,129.73720917251075,130.61246531799486,132.19626215268033,128.945310755168,133.9884533077192,132.4046564730337,134.23852649214322,129.11202621145068,129.8205669006521,130.15399781321747,128.98698961923867,130.61246531799486,131.1126116868429,130.5291075898535,130.07064008507612,132.112904424539,130.8208596383482,129.86224576472276,132.23794101675102,130.2373555413588,131.77947351197363,131.57107919162027,130.57078645392417,129.90392462879345,131.36268487126694,131.77947351197363,134.19684762807253,134.61363626877926,133.78005898736583,132.4046564730337,144.86663683016428,132.90480284188175,129.57049371622807,130.27903440542948,131.69611578383228,131.987867832327,129.98728235693477,130.65414418206552,133.36327034665914,128.02837574561326,130.77918077427753,137.78122993815023,131.07093282277222,134.48859967656725,131.61275805569096,131.5294003275496,132.61305079338706,129.48713598808672,131.36268487126694,129.5288148521574,130.15399781321747,131.1126116868429,131.19596941498423,131.5294003275496,131.9461889682563,134.90538831727395,126.61129436721045,134.4052419484259,130.15399781321747,132.27961988082168,130.32071326950015,130.27903440542948,129.4037782599454,129.86224576472276,131.48772146347892,133.9884533077192,132.65472965745772,132.5296930652457,132.48801420117505,129.65385144436942,130.11231894914678,129.86224576472276,132.90480284188175,129.5288148521574,132.57137192931637,129.73720917251075,132.65472965745772,133.65502239515382,131.15429055091357,134.1134898999312,132.57137192931637,128.77859529888534,130.02896122100546,129.73720917251075,132.32129874489235,133.65502239515382,133.9884533077192,130.07064008507612,130.65414418206552,129.57049371622807,131.57107919162027,131.44604259940826,131.36268487126694,130.77918077427753,128.86195302702666,130.8625385024189,127.56990824083587,130.8208596383482,132.9464817059524,130.5291075898535,129.57049371622807,131.90451010418565,129.3620993958747,130.5291075898535,130.57078645392417,131.36268487126694,135.61392900647536,127.90333915340123,128.65355870667332,128.65355870667332,133.27991261851778,130.90421736648955,132.5296930652457,131.9461889682563,129.8205669006521,132.02954669639766,130.90421736648955,133.19655489037643,130.69582304613618,129.9456034928641,128.32012779410795,130.9458962305602,135.32217695798064,128.73691643481465,132.86312397781109,136.07239651125272,130.73750191020684,135.1137826376273,130.9458962305602,131.48772146347892,133.44662807480046,131.90451010418565,132.44633533710436,131.07093282277222,128.5285221144613,134.07181103586052,130.3623921335708,129.19538393959203,133.1131971622351,129.07034734738002,134.9470671813446,130.98757509463087,131.9461889682563,132.48801420117505,131.69611578383228,129.57049371622807,132.112904424539,132.61305079338706,132.77976624966973,128.19509120189593,131.987867832327,131.32100600719625,132.112904424539,129.19538393959203,128.73691643481465,130.90421736648955,132.19626215268033,130.48742872578282,134.15516876400187,131.73779464790294,135.57225014240467,132.32129874489235,135.1137826376273,131.9461889682563,132.02954669639766,138.32305517106897,130.4040709976415,133.1131971622351,133.36327034665914,131.32100600719625,128.61187984260263,133.07151829816442,129.61217258029873,133.36327034665914,134.23852649214322,131.48772146347892,133.4049492107298,133.4049492107298,131.61275805569096,134.78035172506193,133.8217378514365,133.86341671550719,133.57166466701247,134.03013217178986,133.1131971622351,132.57137192931637,131.73779464790294,130.19567667728813,132.77976624966973,129.02866848330936,132.77976624966973,138.4064128992103,131.61275805569096,133.15487602630577,131.9461889682563,133.78005898736583,131.65443691976162,133.61334353108316,133.8217378514365,132.73808738559907,134.23852649214322,132.15458328860967,129.69553030844008,131.5294003275496,130.98757509463087,130.8625385024189,130.9458962305602,133.1131971622351,132.57137192931637,129.9456034928641,130.19567667728813,134.9887460454153,127.56990824083587,133.27991261851778,133.15487602630577,131.73779464790294,131.1126116868429,131.2376482790549,131.1126116868429,132.8214451137404,130.19567667728813,130.44574986171216,132.23794101675102,134.65531513284992,128.27844893003729,134.48859967656725,129.86224576472276,130.44574986171216,130.65414418206552,129.98728235693477,134.32188422028455,129.86224576472276,131.02925395870156,135.32217695798064,129.90392462879345,129.8205669006521,134.61363626877926,130.73750191020684,130.19567667728813,128.4034855222493,129.15370507552137,129.57049371622807,128.69523757074398,131.4043637353376,132.36297760896304,129.4037782599454,126.8196886875638,131.19596941498423],\"type\":\"scatter\"}],                        {\"template\":{\"data\":{\"histogram2dcontour\":[{\"type\":\"histogram2dcontour\",\"colorbar\":{\"outlinewidth\":0,\"ticks\":\"\"},\"colorscale\":[[0.0,\"#0d0887\"],[0.1111111111111111,\"#46039f\"],[0.2222222222222222,\"#7201a8\"],[0.3333333333333333,\"#9c179e\"],[0.4444444444444444,\"#bd3786\"],[0.5555555555555556,\"#d8576b\"],[0.6666666666666666,\"#ed7953\"],[0.7777777777777778,\"#fb9f3a\"],[0.8888888888888888,\"#fdca26\"],[1.0,\"#f0f921\"]]}],\"choropleth\":[{\"type\":\"choropleth\",\"colorbar\":{\"outlinewidth\":0,\"ticks\":\"\"}}],\"histogram2d\":[{\"type\":\"histogram2d\",\"colorbar\":{\"outlinewidth\":0,\"ticks\":\"\"},\"colorscale\":[[0.0,\"#0d0887\"],[0.1111111111111111,\"#46039f\"],[0.2222222222222222,\"#7201a8\"],[0.3333333333333333,\"#9c179e\"],[0.4444444444444444,\"#bd3786\"],[0.5555555555555556,\"#d8576b\"],[0.6666666666666666,\"#ed7953\"],[0.7777777777777778,\"#fb9f3a\"],[0.8888888888888888,\"#fdca26\"],[1.0,\"#f0f921\"]]}],\"heatmap\":[{\"type\":\"heatmap\",\"colorbar\":{\"outlinewidth\":0,\"ticks\":\"\"},\"colorscale\":[[0.0,\"#0d0887\"],[0.1111111111111111,\"#46039f\"],[0.2222222222222222,\"#7201a8\"],[0.3333333333333333,\"#9c179e\"],[0.4444444444444444,\"#bd3786\"],[0.5555555555555556,\"#d8576b\"],[0.6666666666666666,\"#ed7953\"],[0.7777777777777778,\"#fb9f3a\"],[0.8888888888888888,\"#fdca26\"],[1.0,\"#f0f921\"]]}],\"heatmapgl\":[{\"type\":\"heatmapgl\",\"colorbar\":{\"outlinewidth\":0,\"ticks\":\"\"},\"colorscale\":[[0.0,\"#0d0887\"],[0.1111111111111111,\"#46039f\"],[0.2222222222222222,\"#7201a8\"],[0.3333333333333333,\"#9c179e\"],[0.4444444444444444,\"#bd3786\"],[0.5555555555555556,\"#d8576b\"],[0.6666666666666666,\"#ed7953\"],[0.7777777777777778,\"#fb9f3a\"],[0.8888888888888888,\"#fdca26\"],[1.0,\"#f0f921\"]]}],\"contourcarpet\":[{\"type\":\"contourcarpet\",\"colorbar\":{\"outlinewidth\":0,\"ticks\":\"\"}}],\"contour\":[{\"type\":\"contour\",\"colorbar\":{\"outlinewidth\":0,\"ticks\":\"\"},\"colorscale\":[[0.0,\"#0d0887\"],[0.1111111111111111,\"#46039f\"],[0.2222222222222222,\"#7201a8\"],[0.3333333333333333,\"#9c179e\"],[0.4444444444444444,\"#bd3786\"],[0.5555555555555556,\"#d8576b\"],[0.6666666666666666,\"#ed7953\"],[0.7777777777777778,\"#fb9f3a\"],[0.8888888888888888,\"#fdca26\"],[1.0,\"#f0f921\"]]}],\"surface\":[{\"type\":\"surface\",\"colorbar\":{\"outlinewidth\":0,\"ticks\":\"\"},\"colorscale\":[[0.0,\"#0d0887\"],[0.1111111111111111,\"#46039f\"],[0.2222222222222222,\"#7201a8\"],[0.3333333333333333,\"#9c179e\"],[0.4444444444444444,\"#bd3786\"],[0.5555555555555556,\"#d8576b\"],[0.6666666666666666,\"#ed7953\"],[0.7777777777777778,\"#fb9f3a\"],[0.8888888888888888,\"#fdca26\"],[1.0,\"#f0f921\"]]}],\"mesh3d\":[{\"type\":\"mesh3d\",\"colorbar\":{\"outlinewidth\":0,\"ticks\":\"\"}}],\"scatter\":[{\"fillpattern\":{\"fillmode\":\"overlay\",\"size\":10,\"solidity\":0.2},\"type\":\"scatter\"}],\"parcoords\":[{\"type\":\"parcoords\",\"line\":{\"colorbar\":{\"outlinewidth\":0,\"ticks\":\"\"}}}],\"scatterpolargl\":[{\"type\":\"scatterpolargl\",\"marker\":{\"colorbar\":{\"outlinewidth\":0,\"ticks\":\"\"}}}],\"bar\":[{\"error_x\":{\"color\":\"#2a3f5f\"},\"error_y\":{\"color\":\"#2a3f5f\"},\"marker\":{\"line\":{\"color\":\"#E5ECF6\",\"width\":0.5},\"pattern\":{\"fillmode\":\"overlay\",\"size\":10,\"solidity\":0.2}},\"type\":\"bar\"}],\"scattergeo\":[{\"type\":\"scattergeo\",\"marker\":{\"colorbar\":{\"outlinewidth\":0,\"ticks\":\"\"}}}],\"scatterpolar\":[{\"type\":\"scatterpolar\",\"marker\":{\"colorbar\":{\"outlinewidth\":0,\"ticks\":\"\"}}}],\"histogram\":[{\"marker\":{\"pattern\":{\"fillmode\":\"overlay\",\"size\":10,\"solidity\":0.2}},\"type\":\"histogram\"}],\"scattergl\":[{\"type\":\"scattergl\",\"marker\":{\"colorbar\":{\"outlinewidth\":0,\"ticks\":\"\"}}}],\"scatter3d\":[{\"type\":\"scatter3d\",\"line\":{\"colorbar\":{\"outlinewidth\":0,\"ticks\":\"\"}},\"marker\":{\"colorbar\":{\"outlinewidth\":0,\"ticks\":\"\"}}}],\"scattermapbox\":[{\"type\":\"scattermapbox\",\"marker\":{\"colorbar\":{\"outlinewidth\":0,\"ticks\":\"\"}}}],\"scatterternary\":[{\"type\":\"scatterternary\",\"marker\":{\"colorbar\":{\"outlinewidth\":0,\"ticks\":\"\"}}}],\"scattercarpet\":[{\"type\":\"scattercarpet\",\"marker\":{\"colorbar\":{\"outlinewidth\":0,\"ticks\":\"\"}}}],\"carpet\":[{\"aaxis\":{\"endlinecolor\":\"#2a3f5f\",\"gridcolor\":\"white\",\"linecolor\":\"white\",\"minorgridcolor\":\"white\",\"startlinecolor\":\"#2a3f5f\"},\"baxis\":{\"endlinecolor\":\"#2a3f5f\",\"gridcolor\":\"white\",\"linecolor\":\"white\",\"minorgridcolor\":\"white\",\"startlinecolor\":\"#2a3f5f\"},\"type\":\"carpet\"}],\"table\":[{\"cells\":{\"fill\":{\"color\":\"#EBF0F8\"},\"line\":{\"color\":\"white\"}},\"header\":{\"fill\":{\"color\":\"#C8D4E3\"},\"line\":{\"color\":\"white\"}},\"type\":\"table\"}],\"barpolar\":[{\"marker\":{\"line\":{\"color\":\"#E5ECF6\",\"width\":0.5},\"pattern\":{\"fillmode\":\"overlay\",\"size\":10,\"solidity\":0.2}},\"type\":\"barpolar\"}],\"pie\":[{\"automargin\":true,\"type\":\"pie\"}]},\"layout\":{\"autotypenumbers\":\"strict\",\"colorway\":[\"#636efa\",\"#EF553B\",\"#00cc96\",\"#ab63fa\",\"#FFA15A\",\"#19d3f3\",\"#FF6692\",\"#B6E880\",\"#FF97FF\",\"#FECB52\"],\"font\":{\"color\":\"#2a3f5f\"},\"hovermode\":\"closest\",\"hoverlabel\":{\"align\":\"left\"},\"paper_bgcolor\":\"white\",\"plot_bgcolor\":\"#E5ECF6\",\"polar\":{\"bgcolor\":\"#E5ECF6\",\"angularaxis\":{\"gridcolor\":\"white\",\"linecolor\":\"white\",\"ticks\":\"\"},\"radialaxis\":{\"gridcolor\":\"white\",\"linecolor\":\"white\",\"ticks\":\"\"}},\"ternary\":{\"bgcolor\":\"#E5ECF6\",\"aaxis\":{\"gridcolor\":\"white\",\"linecolor\":\"white\",\"ticks\":\"\"},\"baxis\":{\"gridcolor\":\"white\",\"linecolor\":\"white\",\"ticks\":\"\"},\"caxis\":{\"gridcolor\":\"white\",\"linecolor\":\"white\",\"ticks\":\"\"}},\"coloraxis\":{\"colorbar\":{\"outlinewidth\":0,\"ticks\":\"\"}},\"colorscale\":{\"sequential\":[[0.0,\"#0d0887\"],[0.1111111111111111,\"#46039f\"],[0.2222222222222222,\"#7201a8\"],[0.3333333333333333,\"#9c179e\"],[0.4444444444444444,\"#bd3786\"],[0.5555555555555556,\"#d8576b\"],[0.6666666666666666,\"#ed7953\"],[0.7777777777777778,\"#fb9f3a\"],[0.8888888888888888,\"#fdca26\"],[1.0,\"#f0f921\"]],\"sequentialminus\":[[0.0,\"#0d0887\"],[0.1111111111111111,\"#46039f\"],[0.2222222222222222,\"#7201a8\"],[0.3333333333333333,\"#9c179e\"],[0.4444444444444444,\"#bd3786\"],[0.5555555555555556,\"#d8576b\"],[0.6666666666666666,\"#ed7953\"],[0.7777777777777778,\"#fb9f3a\"],[0.8888888888888888,\"#fdca26\"],[1.0,\"#f0f921\"]],\"diverging\":[[0,\"#8e0152\"],[0.1,\"#c51b7d\"],[0.2,\"#de77ae\"],[0.3,\"#f1b6da\"],[0.4,\"#fde0ef\"],[0.5,\"#f7f7f7\"],[0.6,\"#e6f5d0\"],[0.7,\"#b8e186\"],[0.8,\"#7fbc41\"],[0.9,\"#4d9221\"],[1,\"#276419\"]]},\"xaxis\":{\"gridcolor\":\"white\",\"linecolor\":\"white\",\"ticks\":\"\",\"title\":{\"standoff\":15},\"zerolinecolor\":\"white\",\"automargin\":true,\"zerolinewidth\":2},\"yaxis\":{\"gridcolor\":\"white\",\"linecolor\":\"white\",\"ticks\":\"\",\"title\":{\"standoff\":15},\"zerolinecolor\":\"white\",\"automargin\":true,\"zerolinewidth\":2},\"scene\":{\"xaxis\":{\"backgroundcolor\":\"#E5ECF6\",\"gridcolor\":\"white\",\"linecolor\":\"white\",\"showbackground\":true,\"ticks\":\"\",\"zerolinecolor\":\"white\",\"gridwidth\":2},\"yaxis\":{\"backgroundcolor\":\"#E5ECF6\",\"gridcolor\":\"white\",\"linecolor\":\"white\",\"showbackground\":true,\"ticks\":\"\",\"zerolinecolor\":\"white\",\"gridwidth\":2},\"zaxis\":{\"backgroundcolor\":\"#E5ECF6\",\"gridcolor\":\"white\",\"linecolor\":\"white\",\"showbackground\":true,\"ticks\":\"\",\"zerolinecolor\":\"white\",\"gridwidth\":2}},\"shapedefaults\":{\"line\":{\"color\":\"#2a3f5f\"}},\"annotationdefaults\":{\"arrowcolor\":\"#2a3f5f\",\"arrowhead\":0,\"arrowwidth\":1},\"geo\":{\"bgcolor\":\"white\",\"landcolor\":\"#E5ECF6\",\"subunitcolor\":\"white\",\"showland\":true,\"showlakes\":true,\"lakecolor\":\"white\"},\"title\":{\"x\":0.05},\"mapbox\":{\"style\":\"light\"}}},\"xaxis\":{\"anchor\":\"y\",\"domain\":[0.0,1.0],\"title\":{\"text\":\"chol\"}},\"yaxis\":{\"anchor\":\"x\",\"domain\":[0.0,1.0],\"title\":{\"text\":\"trestbps\"}},\"legend\":{\"tracegroupgap\":0},\"title\":{\"text\":\"Scatter Plot For trestbps By choi\"}},                        {\"responsive\": true}                    ).then(function(){\n",
              "                            \n",
              "var gd = document.getElementById('b79fda0c-05e9-4faf-b394-5ecc697b0d35');\n",
              "var x = new MutationObserver(function (mutations, observer) {{\n",
              "        var display = window.getComputedStyle(gd).display;\n",
              "        if (!display || display === 'none') {{\n",
              "            console.log([gd, 'removed!']);\n",
              "            Plotly.purge(gd);\n",
              "            observer.disconnect();\n",
              "        }}\n",
              "}});\n",
              "\n",
              "// Listen for the removal of the full notebook cells\n",
              "var notebookContainer = gd.closest('#notebook-container');\n",
              "if (notebookContainer) {{\n",
              "    x.observe(notebookContainer, {childList: true});\n",
              "}}\n",
              "\n",
              "// Listen for the clearing of the current output cell\n",
              "var outputEl = gd.closest('.output');\n",
              "if (outputEl) {{\n",
              "    x.observe(outputEl, {childList: true});\n",
              "}}\n",
              "\n",
              "                        })                };                            </script>        </div>\n",
              "</body>\n",
              "</html>"
            ]
          },
          "metadata": {}
        }
      ]
    },
    {
      "cell_type": "markdown",
      "source": [
        "Dependent Variable: Resting Blood Pressure (mmHg)\n",
        "\n",
        "Predicted y = intercept + slope\n",
        "\n",
        "*Predicted y = 121.360 + 0.042x*"
      ],
      "metadata": {
        "id": "-m_d3zYIHQT0"
      }
    },
    {
      "cell_type": "markdown",
      "source": [
        "####N-Z"
      ],
      "metadata": {
        "id": "95V-fCqTHKrd"
      }
    },
    {
      "cell_type": "code",
      "source": [
        "# Computing the least squares regression line\n",
        "slope_NZ, intercept_NZ = np.polyfit(age, thalach, 1)\n",
        "\n",
        "regression_line_NZ = slope_NZ * df['age'] + intercept_NZ\n",
        "\n",
        "fig2_NZ = fig1NZ.add_scatter(x=df['age'], y=regression_line_NZ, mode='lines', name='Regression Line')\n",
        "\n",
        "fig2_NZ"
      ],
      "metadata": {
        "id": "JajANaW9HPo0",
        "outputId": "0b1c560f-3c19-4132-cb55-ce963192baa3",
        "colab": {
          "base_uri": "https://localhost:8080/",
          "height": 542
        }
      },
      "execution_count": 10,
      "outputs": [
        {
          "output_type": "display_data",
          "data": {
            "text/html": [
              "<html>\n",
              "<head><meta charset=\"utf-8\" /></head>\n",
              "<body>\n",
              "    <div>            <script src=\"https://cdnjs.cloudflare.com/ajax/libs/mathjax/2.7.5/MathJax.js?config=TeX-AMS-MML_SVG\"></script><script type=\"text/javascript\">if (window.MathJax && window.MathJax.Hub && window.MathJax.Hub.Config) {window.MathJax.Hub.Config({SVG: {font: \"STIX-Web\"}});}</script>                <script type=\"text/javascript\">window.PlotlyConfig = {MathJaxConfig: 'local'};</script>\n",
              "        <script charset=\"utf-8\" src=\"https://cdn.plot.ly/plotly-2.24.1.min.js\"></script>                <div id=\"6b207e91-1a12-4209-b0a6-33a80575ead4\" class=\"plotly-graph-div\" style=\"height:525px; width:100%;\"></div>            <script type=\"text/javascript\">                                    window.PLOTLYENV=window.PLOTLYENV || {};                                    if (document.getElementById(\"6b207e91-1a12-4209-b0a6-33a80575ead4\")) {                    Plotly.newPlot(                        \"6b207e91-1a12-4209-b0a6-33a80575ead4\",                        [{\"hovertemplate\":\"age=%{x}\\u003cbr\\u003ethalach=%{y}\\u003cextra\\u003e\\u003c\\u002fextra\\u003e\",\"legendgroup\":\"\",\"marker\":{\"color\":\"#636efa\",\"symbol\":\"circle\"},\"mode\":\"markers\",\"name\":\"\",\"orientation\":\"v\",\"showlegend\":false,\"x\":[63,37,41,56,57,57,56,44,52,57,54,48,49,64,58,50,58,66,43,69,59,44,42,61,40,71,59,51,65,53,41,65,44,54,51,46,54,54,65,65,51,48,45,53,39,52,44,47,53,53,51,66,62,44,63,52,48,45,34,57,71,54,52,41,58,35,51,45,44,62,54,51,29,51,43,55,51,59,52,58,41,45,60,52,42,67,68,46,54,58,48,57,52,54,45,53,62,52,43,53,42,59,63,42,50,68,69,45,50,50,64,57,64,43,55,37,41,56,46,46,64,59,41,54,39,34,47,67,52,74,54,49,42,41,41,49,60,62,57,64,51,43,42,67,76,70,44,60,44,42,66,71,64,66,39,58,47,35,58,56,56,55,41,38,38,67,67,62,63,53,56,48,58,58,60,40,60,64,43,57,55,65,61,58,50,44,60,54,50,41,51,58,54,60,60,59,46,67,62,65,44,60,58,68,62,52,59,60,49,59,57,61,39,61,56,43,62,63,65,48,63,55,65,56,54,70,62,35,59,64,47,57,55,64,70,51,58,60,77,35,70,59,64,57,56,48,56,66,54,69,51,43,62,67,59,45,58,50,62,38,66,52,53,63,54,66,55,49,54,56,46,61,67,58,47,52,58,57,58,61,42,52,59,40,61,46,59,57,57,55,61,58,58,67,44,63,63,59,57,45,68,57,57],\"xaxis\":\"x\",\"y\":[150,187,172,178,163,148,153,173,162,174,160,139,171,144,162,158,172,114,171,151,161,179,178,137,178,162,157,123,157,152,168,140,188,152,125,160,170,165,148,151,142,180,148,143,182,172,180,156,115,160,149,151,146,175,172,158,186,185,174,159,130,156,190,132,165,182,143,175,170,163,147,154,202,186,165,161,166,164,184,154,179,170,160,178,122,160,151,156,158,122,175,168,169,159,138,111,157,147,162,173,178,145,179,194,163,115,131,152,162,159,154,173,133,161,155,170,168,162,172,152,122,182,172,167,179,192,143,172,169,121,163,162,162,153,163,163,96,140,126,105,157,181,173,142,116,143,149,171,169,150,138,125,155,152,152,131,179,174,144,163,169,166,182,173,173,108,129,160,147,155,142,168,160,173,132,114,160,158,120,112,132,114,169,165,128,153,144,109,163,158,142,131,113,142,155,140,147,163,99,158,177,141,111,150,145,161,142,157,139,162,150,140,140,146,144,136,97,132,127,150,154,111,174,133,126,125,103,130,159,131,152,124,145,96,109,173,171,170,162,156,112,143,132,88,105,166,150,120,195,146,122,143,106,125,125,147,130,126,154,182,165,160,95,169,108,132,117,126,116,103,144,145,71,156,118,168,105,141,152,125,125,156,134,181,138,120,162,164,143,130,161,140,146,150,144,144,136,90,123,132,141,115,174],\"yaxis\":\"y\",\"type\":\"scatter\"},{\"mode\":\"lines\",\"name\":\"Regression Line\",\"x\":[63,37,41,56,57,57,56,44,52,57,54,48,49,64,58,50,58,66,43,69,59,44,42,61,40,71,59,51,65,53,41,65,44,54,51,46,54,54,65,65,51,48,45,53,39,52,44,47,53,53,51,66,62,44,63,52,48,45,34,57,71,54,52,41,58,35,51,45,44,62,54,51,29,51,43,55,51,59,52,58,41,45,60,52,42,67,68,46,54,58,48,57,52,54,45,53,62,52,43,53,42,59,63,42,50,68,69,45,50,50,64,57,64,43,55,37,41,56,46,46,64,59,41,54,39,34,47,67,52,74,54,49,42,41,41,49,60,62,57,64,51,43,42,67,76,70,44,60,44,42,66,71,64,66,39,58,47,35,58,56,56,55,41,38,38,67,67,62,63,53,56,48,58,58,60,40,60,64,43,57,55,65,61,58,50,44,60,54,50,41,51,58,54,60,60,59,46,67,62,65,44,60,58,68,62,52,59,60,49,59,57,61,39,61,56,43,62,63,65,48,63,55,65,56,54,70,62,35,59,64,47,57,55,64,70,51,58,60,77,35,70,59,64,57,56,48,56,66,54,69,51,43,62,67,59,45,58,50,62,38,66,52,53,63,54,66,55,49,54,56,46,61,67,58,47,52,58,57,58,61,42,52,59,40,61,46,59,57,57,55,61,58,58,67,44,63,63,59,57,45,68,57,57],\"y\":[140.96936974749826,167.10136712104878,163.08105983281024,148.0049075019157,146.99983067985607,146.99983067985607,148.0049075019157,160.06582936663133,152.02521479015425,146.99983067985607,150.01506114603498,156.0455220783928,155.04044525633316,139.96429292543866,145.99475385779644,154.03536843427352,145.99475385779644,137.95413928131939,161.07090618869097,134.93890881514045,144.9896770357368,160.06582936663133,162.0759830107506,142.97952339161753,164.08613665486985,132.9287551710212,144.9896770357368,153.0302916122139,138.959216103379,151.02013796809462,163.08105983281024,138.959216103379,160.06582936663133,150.01506114603498,153.0302916122139,158.05567572251206,150.01506114603498,150.01506114603498,138.959216103379,138.959216103379,153.0302916122139,156.0455220783928,159.0607525445717,151.02013796809462,165.0912134769295,152.02521479015425,160.06582936663133,157.05059890045243,151.02013796809462,151.02013796809462,153.0302916122139,137.95413928131939,141.97444656955793,160.06582936663133,140.96936974749826,152.02521479015425,156.0455220783928,159.0607525445717,170.11659758722766,146.99983067985607,132.9287551710212,150.01506114603498,152.02521479015425,163.08105983281024,145.99475385779644,169.11152076516802,153.0302916122139,159.0607525445717,160.06582936663133,141.97444656955793,150.01506114603498,153.0302916122139,175.14198169752584,153.0302916122139,161.07090618869097,149.00998432397535,153.0302916122139,144.9896770357368,152.02521479015425,145.99475385779644,163.08105983281024,159.0607525445717,143.98460021367717,152.02521479015425,162.0759830107506,136.94906245925972,135.94398563720011,158.05567572251206,150.01506114603498,145.99475385779644,156.0455220783928,146.99983067985607,152.02521479015425,150.01506114603498,159.0607525445717,151.02013796809462,141.97444656955793,152.02521479015425,161.07090618869097,151.02013796809462,162.0759830107506,144.9896770357368,140.96936974749826,162.0759830107506,154.03536843427352,135.94398563720011,134.93890881514045,159.0607525445717,154.03536843427352,154.03536843427352,139.96429292543866,146.99983067985607,139.96429292543866,161.07090618869097,149.00998432397535,167.10136712104878,163.08105983281024,148.0049075019157,158.05567572251206,158.05567572251206,139.96429292543866,144.9896770357368,163.08105983281024,150.01506114603498,165.0912134769295,170.11659758722766,157.05059890045243,136.94906245925972,152.02521479015425,129.9135247048423,150.01506114603498,155.04044525633316,162.0759830107506,163.08105983281024,163.08105983281024,155.04044525633316,143.98460021367717,141.97444656955793,146.99983067985607,139.96429292543866,153.0302916122139,161.07090618869097,162.0759830107506,136.94906245925972,127.90337106072303,133.93383199308084,160.06582936663133,143.98460021367717,160.06582936663133,162.0759830107506,137.95413928131939,132.9287551710212,139.96429292543866,137.95413928131939,165.0912134769295,145.99475385779644,157.05059890045243,169.11152076516802,145.99475385779644,148.0049075019157,148.0049075019157,149.00998432397535,163.08105983281024,166.09629029898912,166.09629029898912,136.94906245925972,136.94906245925972,141.97444656955793,140.96936974749826,151.02013796809462,148.0049075019157,156.0455220783928,145.99475385779644,145.99475385779644,143.98460021367717,164.08613665486985,143.98460021367717,139.96429292543866,161.07090618869097,146.99983067985607,149.00998432397535,138.959216103379,142.97952339161753,145.99475385779644,154.03536843427352,160.06582936663133,143.98460021367717,150.01506114603498,154.03536843427352,163.08105983281024,153.0302916122139,145.99475385779644,150.01506114603498,143.98460021367717,143.98460021367717,144.9896770357368,158.05567572251206,136.94906245925972,141.97444656955793,138.959216103379,160.06582936663133,143.98460021367717,145.99475385779644,135.94398563720011,141.97444656955793,152.02521479015425,144.9896770357368,143.98460021367717,155.04044525633316,144.9896770357368,146.99983067985607,142.97952339161753,165.0912134769295,142.97952339161753,148.0049075019157,161.07090618869097,141.97444656955793,140.96936974749826,138.959216103379,156.0455220783928,140.96936974749826,149.00998432397535,138.959216103379,148.0049075019157,150.01506114603498,133.93383199308084,141.97444656955793,169.11152076516802,144.9896770357368,139.96429292543866,157.05059890045243,146.99983067985607,149.00998432397535,139.96429292543866,133.93383199308084,153.0302916122139,145.99475385779644,143.98460021367717,126.8982942386634,169.11152076516802,133.93383199308084,144.9896770357368,139.96429292543866,146.99983067985607,148.0049075019157,156.0455220783928,148.0049075019157,137.95413928131939,150.01506114603498,134.93890881514045,153.0302916122139,161.07090618869097,141.97444656955793,136.94906245925972,144.9896770357368,159.0607525445717,145.99475385779644,154.03536843427352,141.97444656955793,166.09629029898912,137.95413928131939,152.02521479015425,151.02013796809462,140.96936974749826,150.01506114603498,137.95413928131939,149.00998432397535,155.04044525633316,150.01506114603498,148.0049075019157,158.05567572251206,142.97952339161753,136.94906245925972,145.99475385779644,157.05059890045243,152.02521479015425,145.99475385779644,146.99983067985607,145.99475385779644,142.97952339161753,162.0759830107506,152.02521479015425,144.9896770357368,164.08613665486985,142.97952339161753,158.05567572251206,144.9896770357368,146.99983067985607,146.99983067985607,149.00998432397535,142.97952339161753,145.99475385779644,145.99475385779644,136.94906245925972,160.06582936663133,140.96936974749826,140.96936974749826,144.9896770357368,146.99983067985607,159.0607525445717,135.94398563720011,146.99983067985607,146.99983067985607],\"type\":\"scatter\"},{\"mode\":\"lines\",\"name\":\"Regression Line\",\"x\":[63,37,41,56,57,57,56,44,52,57,54,48,49,64,58,50,58,66,43,69,59,44,42,61,40,71,59,51,65,53,41,65,44,54,51,46,54,54,65,65,51,48,45,53,39,52,44,47,53,53,51,66,62,44,63,52,48,45,34,57,71,54,52,41,58,35,51,45,44,62,54,51,29,51,43,55,51,59,52,58,41,45,60,52,42,67,68,46,54,58,48,57,52,54,45,53,62,52,43,53,42,59,63,42,50,68,69,45,50,50,64,57,64,43,55,37,41,56,46,46,64,59,41,54,39,34,47,67,52,74,54,49,42,41,41,49,60,62,57,64,51,43,42,67,76,70,44,60,44,42,66,71,64,66,39,58,47,35,58,56,56,55,41,38,38,67,67,62,63,53,56,48,58,58,60,40,60,64,43,57,55,65,61,58,50,44,60,54,50,41,51,58,54,60,60,59,46,67,62,65,44,60,58,68,62,52,59,60,49,59,57,61,39,61,56,43,62,63,65,48,63,55,65,56,54,70,62,35,59,64,47,57,55,64,70,51,58,60,77,35,70,59,64,57,56,48,56,66,54,69,51,43,62,67,59,45,58,50,62,38,66,52,53,63,54,66,55,49,54,56,46,61,67,58,47,52,58,57,58,61,42,52,59,40,61,46,59,57,57,55,61,58,58,67,44,63,63,59,57,45,68,57,57],\"y\":[140.96936974749826,167.10136712104878,163.08105983281024,148.0049075019157,146.99983067985607,146.99983067985607,148.0049075019157,160.06582936663133,152.02521479015425,146.99983067985607,150.01506114603498,156.0455220783928,155.04044525633316,139.96429292543866,145.99475385779644,154.03536843427352,145.99475385779644,137.95413928131939,161.07090618869097,134.93890881514045,144.9896770357368,160.06582936663133,162.0759830107506,142.97952339161753,164.08613665486985,132.9287551710212,144.9896770357368,153.0302916122139,138.959216103379,151.02013796809462,163.08105983281024,138.959216103379,160.06582936663133,150.01506114603498,153.0302916122139,158.05567572251206,150.01506114603498,150.01506114603498,138.959216103379,138.959216103379,153.0302916122139,156.0455220783928,159.0607525445717,151.02013796809462,165.0912134769295,152.02521479015425,160.06582936663133,157.05059890045243,151.02013796809462,151.02013796809462,153.0302916122139,137.95413928131939,141.97444656955793,160.06582936663133,140.96936974749826,152.02521479015425,156.0455220783928,159.0607525445717,170.11659758722766,146.99983067985607,132.9287551710212,150.01506114603498,152.02521479015425,163.08105983281024,145.99475385779644,169.11152076516802,153.0302916122139,159.0607525445717,160.06582936663133,141.97444656955793,150.01506114603498,153.0302916122139,175.14198169752584,153.0302916122139,161.07090618869097,149.00998432397535,153.0302916122139,144.9896770357368,152.02521479015425,145.99475385779644,163.08105983281024,159.0607525445717,143.98460021367717,152.02521479015425,162.0759830107506,136.94906245925972,135.94398563720011,158.05567572251206,150.01506114603498,145.99475385779644,156.0455220783928,146.99983067985607,152.02521479015425,150.01506114603498,159.0607525445717,151.02013796809462,141.97444656955793,152.02521479015425,161.07090618869097,151.02013796809462,162.0759830107506,144.9896770357368,140.96936974749826,162.0759830107506,154.03536843427352,135.94398563720011,134.93890881514045,159.0607525445717,154.03536843427352,154.03536843427352,139.96429292543866,146.99983067985607,139.96429292543866,161.07090618869097,149.00998432397535,167.10136712104878,163.08105983281024,148.0049075019157,158.05567572251206,158.05567572251206,139.96429292543866,144.9896770357368,163.08105983281024,150.01506114603498,165.0912134769295,170.11659758722766,157.05059890045243,136.94906245925972,152.02521479015425,129.9135247048423,150.01506114603498,155.04044525633316,162.0759830107506,163.08105983281024,163.08105983281024,155.04044525633316,143.98460021367717,141.97444656955793,146.99983067985607,139.96429292543866,153.0302916122139,161.07090618869097,162.0759830107506,136.94906245925972,127.90337106072303,133.93383199308084,160.06582936663133,143.98460021367717,160.06582936663133,162.0759830107506,137.95413928131939,132.9287551710212,139.96429292543866,137.95413928131939,165.0912134769295,145.99475385779644,157.05059890045243,169.11152076516802,145.99475385779644,148.0049075019157,148.0049075019157,149.00998432397535,163.08105983281024,166.09629029898912,166.09629029898912,136.94906245925972,136.94906245925972,141.97444656955793,140.96936974749826,151.02013796809462,148.0049075019157,156.0455220783928,145.99475385779644,145.99475385779644,143.98460021367717,164.08613665486985,143.98460021367717,139.96429292543866,161.07090618869097,146.99983067985607,149.00998432397535,138.959216103379,142.97952339161753,145.99475385779644,154.03536843427352,160.06582936663133,143.98460021367717,150.01506114603498,154.03536843427352,163.08105983281024,153.0302916122139,145.99475385779644,150.01506114603498,143.98460021367717,143.98460021367717,144.9896770357368,158.05567572251206,136.94906245925972,141.97444656955793,138.959216103379,160.06582936663133,143.98460021367717,145.99475385779644,135.94398563720011,141.97444656955793,152.02521479015425,144.9896770357368,143.98460021367717,155.04044525633316,144.9896770357368,146.99983067985607,142.97952339161753,165.0912134769295,142.97952339161753,148.0049075019157,161.07090618869097,141.97444656955793,140.96936974749826,138.959216103379,156.0455220783928,140.96936974749826,149.00998432397535,138.959216103379,148.0049075019157,150.01506114603498,133.93383199308084,141.97444656955793,169.11152076516802,144.9896770357368,139.96429292543866,157.05059890045243,146.99983067985607,149.00998432397535,139.96429292543866,133.93383199308084,153.0302916122139,145.99475385779644,143.98460021367717,126.8982942386634,169.11152076516802,133.93383199308084,144.9896770357368,139.96429292543866,146.99983067985607,148.0049075019157,156.0455220783928,148.0049075019157,137.95413928131939,150.01506114603498,134.93890881514045,153.0302916122139,161.07090618869097,141.97444656955793,136.94906245925972,144.9896770357368,159.0607525445717,145.99475385779644,154.03536843427352,141.97444656955793,166.09629029898912,137.95413928131939,152.02521479015425,151.02013796809462,140.96936974749826,150.01506114603498,137.95413928131939,149.00998432397535,155.04044525633316,150.01506114603498,148.0049075019157,158.05567572251206,142.97952339161753,136.94906245925972,145.99475385779644,157.05059890045243,152.02521479015425,145.99475385779644,146.99983067985607,145.99475385779644,142.97952339161753,162.0759830107506,152.02521479015425,144.9896770357368,164.08613665486985,142.97952339161753,158.05567572251206,144.9896770357368,146.99983067985607,146.99983067985607,149.00998432397535,142.97952339161753,145.99475385779644,145.99475385779644,136.94906245925972,160.06582936663133,140.96936974749826,140.96936974749826,144.9896770357368,146.99983067985607,159.0607525445717,135.94398563720011,146.99983067985607,146.99983067985607],\"type\":\"scatter\"},{\"mode\":\"lines\",\"name\":\"Regression Line\",\"x\":[63,37,41,56,57,57,56,44,52,57,54,48,49,64,58,50,58,66,43,69,59,44,42,61,40,71,59,51,65,53,41,65,44,54,51,46,54,54,65,65,51,48,45,53,39,52,44,47,53,53,51,66,62,44,63,52,48,45,34,57,71,54,52,41,58,35,51,45,44,62,54,51,29,51,43,55,51,59,52,58,41,45,60,52,42,67,68,46,54,58,48,57,52,54,45,53,62,52,43,53,42,59,63,42,50,68,69,45,50,50,64,57,64,43,55,37,41,56,46,46,64,59,41,54,39,34,47,67,52,74,54,49,42,41,41,49,60,62,57,64,51,43,42,67,76,70,44,60,44,42,66,71,64,66,39,58,47,35,58,56,56,55,41,38,38,67,67,62,63,53,56,48,58,58,60,40,60,64,43,57,55,65,61,58,50,44,60,54,50,41,51,58,54,60,60,59,46,67,62,65,44,60,58,68,62,52,59,60,49,59,57,61,39,61,56,43,62,63,65,48,63,55,65,56,54,70,62,35,59,64,47,57,55,64,70,51,58,60,77,35,70,59,64,57,56,48,56,66,54,69,51,43,62,67,59,45,58,50,62,38,66,52,53,63,54,66,55,49,54,56,46,61,67,58,47,52,58,57,58,61,42,52,59,40,61,46,59,57,57,55,61,58,58,67,44,63,63,59,57,45,68,57,57],\"y\":[140.96936974749826,167.10136712104878,163.08105983281024,148.0049075019157,146.99983067985607,146.99983067985607,148.0049075019157,160.06582936663133,152.02521479015425,146.99983067985607,150.01506114603498,156.0455220783928,155.04044525633316,139.96429292543866,145.99475385779644,154.03536843427352,145.99475385779644,137.95413928131939,161.07090618869097,134.93890881514045,144.9896770357368,160.06582936663133,162.0759830107506,142.97952339161753,164.08613665486985,132.9287551710212,144.9896770357368,153.0302916122139,138.959216103379,151.02013796809462,163.08105983281024,138.959216103379,160.06582936663133,150.01506114603498,153.0302916122139,158.05567572251206,150.01506114603498,150.01506114603498,138.959216103379,138.959216103379,153.0302916122139,156.0455220783928,159.0607525445717,151.02013796809462,165.0912134769295,152.02521479015425,160.06582936663133,157.05059890045243,151.02013796809462,151.02013796809462,153.0302916122139,137.95413928131939,141.97444656955793,160.06582936663133,140.96936974749826,152.02521479015425,156.0455220783928,159.0607525445717,170.11659758722766,146.99983067985607,132.9287551710212,150.01506114603498,152.02521479015425,163.08105983281024,145.99475385779644,169.11152076516802,153.0302916122139,159.0607525445717,160.06582936663133,141.97444656955793,150.01506114603498,153.0302916122139,175.14198169752584,153.0302916122139,161.07090618869097,149.00998432397535,153.0302916122139,144.9896770357368,152.02521479015425,145.99475385779644,163.08105983281024,159.0607525445717,143.98460021367717,152.02521479015425,162.0759830107506,136.94906245925972,135.94398563720011,158.05567572251206,150.01506114603498,145.99475385779644,156.0455220783928,146.99983067985607,152.02521479015425,150.01506114603498,159.0607525445717,151.02013796809462,141.97444656955793,152.02521479015425,161.07090618869097,151.02013796809462,162.0759830107506,144.9896770357368,140.96936974749826,162.0759830107506,154.03536843427352,135.94398563720011,134.93890881514045,159.0607525445717,154.03536843427352,154.03536843427352,139.96429292543866,146.99983067985607,139.96429292543866,161.07090618869097,149.00998432397535,167.10136712104878,163.08105983281024,148.0049075019157,158.05567572251206,158.05567572251206,139.96429292543866,144.9896770357368,163.08105983281024,150.01506114603498,165.0912134769295,170.11659758722766,157.05059890045243,136.94906245925972,152.02521479015425,129.9135247048423,150.01506114603498,155.04044525633316,162.0759830107506,163.08105983281024,163.08105983281024,155.04044525633316,143.98460021367717,141.97444656955793,146.99983067985607,139.96429292543866,153.0302916122139,161.07090618869097,162.0759830107506,136.94906245925972,127.90337106072303,133.93383199308084,160.06582936663133,143.98460021367717,160.06582936663133,162.0759830107506,137.95413928131939,132.9287551710212,139.96429292543866,137.95413928131939,165.0912134769295,145.99475385779644,157.05059890045243,169.11152076516802,145.99475385779644,148.0049075019157,148.0049075019157,149.00998432397535,163.08105983281024,166.09629029898912,166.09629029898912,136.94906245925972,136.94906245925972,141.97444656955793,140.96936974749826,151.02013796809462,148.0049075019157,156.0455220783928,145.99475385779644,145.99475385779644,143.98460021367717,164.08613665486985,143.98460021367717,139.96429292543866,161.07090618869097,146.99983067985607,149.00998432397535,138.959216103379,142.97952339161753,145.99475385779644,154.03536843427352,160.06582936663133,143.98460021367717,150.01506114603498,154.03536843427352,163.08105983281024,153.0302916122139,145.99475385779644,150.01506114603498,143.98460021367717,143.98460021367717,144.9896770357368,158.05567572251206,136.94906245925972,141.97444656955793,138.959216103379,160.06582936663133,143.98460021367717,145.99475385779644,135.94398563720011,141.97444656955793,152.02521479015425,144.9896770357368,143.98460021367717,155.04044525633316,144.9896770357368,146.99983067985607,142.97952339161753,165.0912134769295,142.97952339161753,148.0049075019157,161.07090618869097,141.97444656955793,140.96936974749826,138.959216103379,156.0455220783928,140.96936974749826,149.00998432397535,138.959216103379,148.0049075019157,150.01506114603498,133.93383199308084,141.97444656955793,169.11152076516802,144.9896770357368,139.96429292543866,157.05059890045243,146.99983067985607,149.00998432397535,139.96429292543866,133.93383199308084,153.0302916122139,145.99475385779644,143.98460021367717,126.8982942386634,169.11152076516802,133.93383199308084,144.9896770357368,139.96429292543866,146.99983067985607,148.0049075019157,156.0455220783928,148.0049075019157,137.95413928131939,150.01506114603498,134.93890881514045,153.0302916122139,161.07090618869097,141.97444656955793,136.94906245925972,144.9896770357368,159.0607525445717,145.99475385779644,154.03536843427352,141.97444656955793,166.09629029898912,137.95413928131939,152.02521479015425,151.02013796809462,140.96936974749826,150.01506114603498,137.95413928131939,149.00998432397535,155.04044525633316,150.01506114603498,148.0049075019157,158.05567572251206,142.97952339161753,136.94906245925972,145.99475385779644,157.05059890045243,152.02521479015425,145.99475385779644,146.99983067985607,145.99475385779644,142.97952339161753,162.0759830107506,152.02521479015425,144.9896770357368,164.08613665486985,142.97952339161753,158.05567572251206,144.9896770357368,146.99983067985607,146.99983067985607,149.00998432397535,142.97952339161753,145.99475385779644,145.99475385779644,136.94906245925972,160.06582936663133,140.96936974749826,140.96936974749826,144.9896770357368,146.99983067985607,159.0607525445717,135.94398563720011,146.99983067985607,146.99983067985607],\"type\":\"scatter\"},{\"mode\":\"lines\",\"name\":\"Regression Line\",\"x\":[63,37,41,56,57,57,56,44,52,57,54,48,49,64,58,50,58,66,43,69,59,44,42,61,40,71,59,51,65,53,41,65,44,54,51,46,54,54,65,65,51,48,45,53,39,52,44,47,53,53,51,66,62,44,63,52,48,45,34,57,71,54,52,41,58,35,51,45,44,62,54,51,29,51,43,55,51,59,52,58,41,45,60,52,42,67,68,46,54,58,48,57,52,54,45,53,62,52,43,53,42,59,63,42,50,68,69,45,50,50,64,57,64,43,55,37,41,56,46,46,64,59,41,54,39,34,47,67,52,74,54,49,42,41,41,49,60,62,57,64,51,43,42,67,76,70,44,60,44,42,66,71,64,66,39,58,47,35,58,56,56,55,41,38,38,67,67,62,63,53,56,48,58,58,60,40,60,64,43,57,55,65,61,58,50,44,60,54,50,41,51,58,54,60,60,59,46,67,62,65,44,60,58,68,62,52,59,60,49,59,57,61,39,61,56,43,62,63,65,48,63,55,65,56,54,70,62,35,59,64,47,57,55,64,70,51,58,60,77,35,70,59,64,57,56,48,56,66,54,69,51,43,62,67,59,45,58,50,62,38,66,52,53,63,54,66,55,49,54,56,46,61,67,58,47,52,58,57,58,61,42,52,59,40,61,46,59,57,57,55,61,58,58,67,44,63,63,59,57,45,68,57,57],\"y\":[140.96936974749826,167.10136712104878,163.08105983281024,148.0049075019157,146.99983067985607,146.99983067985607,148.0049075019157,160.06582936663133,152.02521479015425,146.99983067985607,150.01506114603498,156.0455220783928,155.04044525633316,139.96429292543866,145.99475385779644,154.03536843427352,145.99475385779644,137.95413928131939,161.07090618869097,134.93890881514045,144.9896770357368,160.06582936663133,162.0759830107506,142.97952339161753,164.08613665486985,132.9287551710212,144.9896770357368,153.0302916122139,138.959216103379,151.02013796809462,163.08105983281024,138.959216103379,160.06582936663133,150.01506114603498,153.0302916122139,158.05567572251206,150.01506114603498,150.01506114603498,138.959216103379,138.959216103379,153.0302916122139,156.0455220783928,159.0607525445717,151.02013796809462,165.0912134769295,152.02521479015425,160.06582936663133,157.05059890045243,151.02013796809462,151.02013796809462,153.0302916122139,137.95413928131939,141.97444656955793,160.06582936663133,140.96936974749826,152.02521479015425,156.0455220783928,159.0607525445717,170.11659758722766,146.99983067985607,132.9287551710212,150.01506114603498,152.02521479015425,163.08105983281024,145.99475385779644,169.11152076516802,153.0302916122139,159.0607525445717,160.06582936663133,141.97444656955793,150.01506114603498,153.0302916122139,175.14198169752584,153.0302916122139,161.07090618869097,149.00998432397535,153.0302916122139,144.9896770357368,152.02521479015425,145.99475385779644,163.08105983281024,159.0607525445717,143.98460021367717,152.02521479015425,162.0759830107506,136.94906245925972,135.94398563720011,158.05567572251206,150.01506114603498,145.99475385779644,156.0455220783928,146.99983067985607,152.02521479015425,150.01506114603498,159.0607525445717,151.02013796809462,141.97444656955793,152.02521479015425,161.07090618869097,151.02013796809462,162.0759830107506,144.9896770357368,140.96936974749826,162.0759830107506,154.03536843427352,135.94398563720011,134.93890881514045,159.0607525445717,154.03536843427352,154.03536843427352,139.96429292543866,146.99983067985607,139.96429292543866,161.07090618869097,149.00998432397535,167.10136712104878,163.08105983281024,148.0049075019157,158.05567572251206,158.05567572251206,139.96429292543866,144.9896770357368,163.08105983281024,150.01506114603498,165.0912134769295,170.11659758722766,157.05059890045243,136.94906245925972,152.02521479015425,129.9135247048423,150.01506114603498,155.04044525633316,162.0759830107506,163.08105983281024,163.08105983281024,155.04044525633316,143.98460021367717,141.97444656955793,146.99983067985607,139.96429292543866,153.0302916122139,161.07090618869097,162.0759830107506,136.94906245925972,127.90337106072303,133.93383199308084,160.06582936663133,143.98460021367717,160.06582936663133,162.0759830107506,137.95413928131939,132.9287551710212,139.96429292543866,137.95413928131939,165.0912134769295,145.99475385779644,157.05059890045243,169.11152076516802,145.99475385779644,148.0049075019157,148.0049075019157,149.00998432397535,163.08105983281024,166.09629029898912,166.09629029898912,136.94906245925972,136.94906245925972,141.97444656955793,140.96936974749826,151.02013796809462,148.0049075019157,156.0455220783928,145.99475385779644,145.99475385779644,143.98460021367717,164.08613665486985,143.98460021367717,139.96429292543866,161.07090618869097,146.99983067985607,149.00998432397535,138.959216103379,142.97952339161753,145.99475385779644,154.03536843427352,160.06582936663133,143.98460021367717,150.01506114603498,154.03536843427352,163.08105983281024,153.0302916122139,145.99475385779644,150.01506114603498,143.98460021367717,143.98460021367717,144.9896770357368,158.05567572251206,136.94906245925972,141.97444656955793,138.959216103379,160.06582936663133,143.98460021367717,145.99475385779644,135.94398563720011,141.97444656955793,152.02521479015425,144.9896770357368,143.98460021367717,155.04044525633316,144.9896770357368,146.99983067985607,142.97952339161753,165.0912134769295,142.97952339161753,148.0049075019157,161.07090618869097,141.97444656955793,140.96936974749826,138.959216103379,156.0455220783928,140.96936974749826,149.00998432397535,138.959216103379,148.0049075019157,150.01506114603498,133.93383199308084,141.97444656955793,169.11152076516802,144.9896770357368,139.96429292543866,157.05059890045243,146.99983067985607,149.00998432397535,139.96429292543866,133.93383199308084,153.0302916122139,145.99475385779644,143.98460021367717,126.8982942386634,169.11152076516802,133.93383199308084,144.9896770357368,139.96429292543866,146.99983067985607,148.0049075019157,156.0455220783928,148.0049075019157,137.95413928131939,150.01506114603498,134.93890881514045,153.0302916122139,161.07090618869097,141.97444656955793,136.94906245925972,144.9896770357368,159.0607525445717,145.99475385779644,154.03536843427352,141.97444656955793,166.09629029898912,137.95413928131939,152.02521479015425,151.02013796809462,140.96936974749826,150.01506114603498,137.95413928131939,149.00998432397535,155.04044525633316,150.01506114603498,148.0049075019157,158.05567572251206,142.97952339161753,136.94906245925972,145.99475385779644,157.05059890045243,152.02521479015425,145.99475385779644,146.99983067985607,145.99475385779644,142.97952339161753,162.0759830107506,152.02521479015425,144.9896770357368,164.08613665486985,142.97952339161753,158.05567572251206,144.9896770357368,146.99983067985607,146.99983067985607,149.00998432397535,142.97952339161753,145.99475385779644,145.99475385779644,136.94906245925972,160.06582936663133,140.96936974749826,140.96936974749826,144.9896770357368,146.99983067985607,159.0607525445717,135.94398563720011,146.99983067985607,146.99983067985607],\"type\":\"scatter\"}],                        {\"template\":{\"data\":{\"histogram2dcontour\":[{\"type\":\"histogram2dcontour\",\"colorbar\":{\"outlinewidth\":0,\"ticks\":\"\"},\"colorscale\":[[0.0,\"#0d0887\"],[0.1111111111111111,\"#46039f\"],[0.2222222222222222,\"#7201a8\"],[0.3333333333333333,\"#9c179e\"],[0.4444444444444444,\"#bd3786\"],[0.5555555555555556,\"#d8576b\"],[0.6666666666666666,\"#ed7953\"],[0.7777777777777778,\"#fb9f3a\"],[0.8888888888888888,\"#fdca26\"],[1.0,\"#f0f921\"]]}],\"choropleth\":[{\"type\":\"choropleth\",\"colorbar\":{\"outlinewidth\":0,\"ticks\":\"\"}}],\"histogram2d\":[{\"type\":\"histogram2d\",\"colorbar\":{\"outlinewidth\":0,\"ticks\":\"\"},\"colorscale\":[[0.0,\"#0d0887\"],[0.1111111111111111,\"#46039f\"],[0.2222222222222222,\"#7201a8\"],[0.3333333333333333,\"#9c179e\"],[0.4444444444444444,\"#bd3786\"],[0.5555555555555556,\"#d8576b\"],[0.6666666666666666,\"#ed7953\"],[0.7777777777777778,\"#fb9f3a\"],[0.8888888888888888,\"#fdca26\"],[1.0,\"#f0f921\"]]}],\"heatmap\":[{\"type\":\"heatmap\",\"colorbar\":{\"outlinewidth\":0,\"ticks\":\"\"},\"colorscale\":[[0.0,\"#0d0887\"],[0.1111111111111111,\"#46039f\"],[0.2222222222222222,\"#7201a8\"],[0.3333333333333333,\"#9c179e\"],[0.4444444444444444,\"#bd3786\"],[0.5555555555555556,\"#d8576b\"],[0.6666666666666666,\"#ed7953\"],[0.7777777777777778,\"#fb9f3a\"],[0.8888888888888888,\"#fdca26\"],[1.0,\"#f0f921\"]]}],\"heatmapgl\":[{\"type\":\"heatmapgl\",\"colorbar\":{\"outlinewidth\":0,\"ticks\":\"\"},\"colorscale\":[[0.0,\"#0d0887\"],[0.1111111111111111,\"#46039f\"],[0.2222222222222222,\"#7201a8\"],[0.3333333333333333,\"#9c179e\"],[0.4444444444444444,\"#bd3786\"],[0.5555555555555556,\"#d8576b\"],[0.6666666666666666,\"#ed7953\"],[0.7777777777777778,\"#fb9f3a\"],[0.8888888888888888,\"#fdca26\"],[1.0,\"#f0f921\"]]}],\"contourcarpet\":[{\"type\":\"contourcarpet\",\"colorbar\":{\"outlinewidth\":0,\"ticks\":\"\"}}],\"contour\":[{\"type\":\"contour\",\"colorbar\":{\"outlinewidth\":0,\"ticks\":\"\"},\"colorscale\":[[0.0,\"#0d0887\"],[0.1111111111111111,\"#46039f\"],[0.2222222222222222,\"#7201a8\"],[0.3333333333333333,\"#9c179e\"],[0.4444444444444444,\"#bd3786\"],[0.5555555555555556,\"#d8576b\"],[0.6666666666666666,\"#ed7953\"],[0.7777777777777778,\"#fb9f3a\"],[0.8888888888888888,\"#fdca26\"],[1.0,\"#f0f921\"]]}],\"surface\":[{\"type\":\"surface\",\"colorbar\":{\"outlinewidth\":0,\"ticks\":\"\"},\"colorscale\":[[0.0,\"#0d0887\"],[0.1111111111111111,\"#46039f\"],[0.2222222222222222,\"#7201a8\"],[0.3333333333333333,\"#9c179e\"],[0.4444444444444444,\"#bd3786\"],[0.5555555555555556,\"#d8576b\"],[0.6666666666666666,\"#ed7953\"],[0.7777777777777778,\"#fb9f3a\"],[0.8888888888888888,\"#fdca26\"],[1.0,\"#f0f921\"]]}],\"mesh3d\":[{\"type\":\"mesh3d\",\"colorbar\":{\"outlinewidth\":0,\"ticks\":\"\"}}],\"scatter\":[{\"fillpattern\":{\"fillmode\":\"overlay\",\"size\":10,\"solidity\":0.2},\"type\":\"scatter\"}],\"parcoords\":[{\"type\":\"parcoords\",\"line\":{\"colorbar\":{\"outlinewidth\":0,\"ticks\":\"\"}}}],\"scatterpolargl\":[{\"type\":\"scatterpolargl\",\"marker\":{\"colorbar\":{\"outlinewidth\":0,\"ticks\":\"\"}}}],\"bar\":[{\"error_x\":{\"color\":\"#2a3f5f\"},\"error_y\":{\"color\":\"#2a3f5f\"},\"marker\":{\"line\":{\"color\":\"#E5ECF6\",\"width\":0.5},\"pattern\":{\"fillmode\":\"overlay\",\"size\":10,\"solidity\":0.2}},\"type\":\"bar\"}],\"scattergeo\":[{\"type\":\"scattergeo\",\"marker\":{\"colorbar\":{\"outlinewidth\":0,\"ticks\":\"\"}}}],\"scatterpolar\":[{\"type\":\"scatterpolar\",\"marker\":{\"colorbar\":{\"outlinewidth\":0,\"ticks\":\"\"}}}],\"histogram\":[{\"marker\":{\"pattern\":{\"fillmode\":\"overlay\",\"size\":10,\"solidity\":0.2}},\"type\":\"histogram\"}],\"scattergl\":[{\"type\":\"scattergl\",\"marker\":{\"colorbar\":{\"outlinewidth\":0,\"ticks\":\"\"}}}],\"scatter3d\":[{\"type\":\"scatter3d\",\"line\":{\"colorbar\":{\"outlinewidth\":0,\"ticks\":\"\"}},\"marker\":{\"colorbar\":{\"outlinewidth\":0,\"ticks\":\"\"}}}],\"scattermapbox\":[{\"type\":\"scattermapbox\",\"marker\":{\"colorbar\":{\"outlinewidth\":0,\"ticks\":\"\"}}}],\"scatterternary\":[{\"type\":\"scatterternary\",\"marker\":{\"colorbar\":{\"outlinewidth\":0,\"ticks\":\"\"}}}],\"scattercarpet\":[{\"type\":\"scattercarpet\",\"marker\":{\"colorbar\":{\"outlinewidth\":0,\"ticks\":\"\"}}}],\"carpet\":[{\"aaxis\":{\"endlinecolor\":\"#2a3f5f\",\"gridcolor\":\"white\",\"linecolor\":\"white\",\"minorgridcolor\":\"white\",\"startlinecolor\":\"#2a3f5f\"},\"baxis\":{\"endlinecolor\":\"#2a3f5f\",\"gridcolor\":\"white\",\"linecolor\":\"white\",\"minorgridcolor\":\"white\",\"startlinecolor\":\"#2a3f5f\"},\"type\":\"carpet\"}],\"table\":[{\"cells\":{\"fill\":{\"color\":\"#EBF0F8\"},\"line\":{\"color\":\"white\"}},\"header\":{\"fill\":{\"color\":\"#C8D4E3\"},\"line\":{\"color\":\"white\"}},\"type\":\"table\"}],\"barpolar\":[{\"marker\":{\"line\":{\"color\":\"#E5ECF6\",\"width\":0.5},\"pattern\":{\"fillmode\":\"overlay\",\"size\":10,\"solidity\":0.2}},\"type\":\"barpolar\"}],\"pie\":[{\"automargin\":true,\"type\":\"pie\"}]},\"layout\":{\"autotypenumbers\":\"strict\",\"colorway\":[\"#636efa\",\"#EF553B\",\"#00cc96\",\"#ab63fa\",\"#FFA15A\",\"#19d3f3\",\"#FF6692\",\"#B6E880\",\"#FF97FF\",\"#FECB52\"],\"font\":{\"color\":\"#2a3f5f\"},\"hovermode\":\"closest\",\"hoverlabel\":{\"align\":\"left\"},\"paper_bgcolor\":\"white\",\"plot_bgcolor\":\"#E5ECF6\",\"polar\":{\"bgcolor\":\"#E5ECF6\",\"angularaxis\":{\"gridcolor\":\"white\",\"linecolor\":\"white\",\"ticks\":\"\"},\"radialaxis\":{\"gridcolor\":\"white\",\"linecolor\":\"white\",\"ticks\":\"\"}},\"ternary\":{\"bgcolor\":\"#E5ECF6\",\"aaxis\":{\"gridcolor\":\"white\",\"linecolor\":\"white\",\"ticks\":\"\"},\"baxis\":{\"gridcolor\":\"white\",\"linecolor\":\"white\",\"ticks\":\"\"},\"caxis\":{\"gridcolor\":\"white\",\"linecolor\":\"white\",\"ticks\":\"\"}},\"coloraxis\":{\"colorbar\":{\"outlinewidth\":0,\"ticks\":\"\"}},\"colorscale\":{\"sequential\":[[0.0,\"#0d0887\"],[0.1111111111111111,\"#46039f\"],[0.2222222222222222,\"#7201a8\"],[0.3333333333333333,\"#9c179e\"],[0.4444444444444444,\"#bd3786\"],[0.5555555555555556,\"#d8576b\"],[0.6666666666666666,\"#ed7953\"],[0.7777777777777778,\"#fb9f3a\"],[0.8888888888888888,\"#fdca26\"],[1.0,\"#f0f921\"]],\"sequentialminus\":[[0.0,\"#0d0887\"],[0.1111111111111111,\"#46039f\"],[0.2222222222222222,\"#7201a8\"],[0.3333333333333333,\"#9c179e\"],[0.4444444444444444,\"#bd3786\"],[0.5555555555555556,\"#d8576b\"],[0.6666666666666666,\"#ed7953\"],[0.7777777777777778,\"#fb9f3a\"],[0.8888888888888888,\"#fdca26\"],[1.0,\"#f0f921\"]],\"diverging\":[[0,\"#8e0152\"],[0.1,\"#c51b7d\"],[0.2,\"#de77ae\"],[0.3,\"#f1b6da\"],[0.4,\"#fde0ef\"],[0.5,\"#f7f7f7\"],[0.6,\"#e6f5d0\"],[0.7,\"#b8e186\"],[0.8,\"#7fbc41\"],[0.9,\"#4d9221\"],[1,\"#276419\"]]},\"xaxis\":{\"gridcolor\":\"white\",\"linecolor\":\"white\",\"ticks\":\"\",\"title\":{\"standoff\":15},\"zerolinecolor\":\"white\",\"automargin\":true,\"zerolinewidth\":2},\"yaxis\":{\"gridcolor\":\"white\",\"linecolor\":\"white\",\"ticks\":\"\",\"title\":{\"standoff\":15},\"zerolinecolor\":\"white\",\"automargin\":true,\"zerolinewidth\":2},\"scene\":{\"xaxis\":{\"backgroundcolor\":\"#E5ECF6\",\"gridcolor\":\"white\",\"linecolor\":\"white\",\"showbackground\":true,\"ticks\":\"\",\"zerolinecolor\":\"white\",\"gridwidth\":2},\"yaxis\":{\"backgroundcolor\":\"#E5ECF6\",\"gridcolor\":\"white\",\"linecolor\":\"white\",\"showbackground\":true,\"ticks\":\"\",\"zerolinecolor\":\"white\",\"gridwidth\":2},\"zaxis\":{\"backgroundcolor\":\"#E5ECF6\",\"gridcolor\":\"white\",\"linecolor\":\"white\",\"showbackground\":true,\"ticks\":\"\",\"zerolinecolor\":\"white\",\"gridwidth\":2}},\"shapedefaults\":{\"line\":{\"color\":\"#2a3f5f\"}},\"annotationdefaults\":{\"arrowcolor\":\"#2a3f5f\",\"arrowhead\":0,\"arrowwidth\":1},\"geo\":{\"bgcolor\":\"white\",\"landcolor\":\"#E5ECF6\",\"subunitcolor\":\"white\",\"showland\":true,\"showlakes\":true,\"lakecolor\":\"white\"},\"title\":{\"x\":0.05},\"mapbox\":{\"style\":\"light\"}}},\"xaxis\":{\"anchor\":\"y\",\"domain\":[0.0,1.0],\"title\":{\"text\":\"age\"}},\"yaxis\":{\"anchor\":\"x\",\"domain\":[0.0,1.0],\"title\":{\"text\":\"thalach\"}},\"legend\":{\"tracegroupgap\":0},\"title\":{\"text\":\"Scatter Plot Of thalach By age\"}},                        {\"responsive\": true}                    ).then(function(){\n",
              "                            \n",
              "var gd = document.getElementById('6b207e91-1a12-4209-b0a6-33a80575ead4');\n",
              "var x = new MutationObserver(function (mutations, observer) {{\n",
              "        var display = window.getComputedStyle(gd).display;\n",
              "        if (!display || display === 'none') {{\n",
              "            console.log([gd, 'removed!']);\n",
              "            Plotly.purge(gd);\n",
              "            observer.disconnect();\n",
              "        }}\n",
              "}});\n",
              "\n",
              "// Listen for the removal of the full notebook cells\n",
              "var notebookContainer = gd.closest('#notebook-container');\n",
              "if (notebookContainer) {{\n",
              "    x.observe(notebookContainer, {childList: true});\n",
              "}}\n",
              "\n",
              "// Listen for the clearing of the current output cell\n",
              "var outputEl = gd.closest('.output');\n",
              "if (outputEl) {{\n",
              "    x.observe(outputEl, {childList: true});\n",
              "}}\n",
              "\n",
              "                        })                };                            </script>        </div>\n",
              "</body>\n",
              "</html>"
            ]
          },
          "metadata": {}
        }
      ]
    },
    {
      "cell_type": "markdown",
      "source": [
        "Dependent Variable: Max Heart Rate\n",
        "\n",
        "Predicted y = intercept + slope\n",
        "\n",
        "*Predicted y = 204.289 – 1.005x*"
      ],
      "metadata": {
        "id": "IPeQoqWUH1tp"
      }
    },
    {
      "cell_type": "markdown",
      "source": [],
      "metadata": {
        "id": "IQDeQWXVHP5L"
      }
    },
    {
      "cell_type": "markdown",
      "source": [
        "### 4. Interpret the slope of the least squares regression line in the context of this study."
      ],
      "metadata": {
        "id": "B8keCFvtjRT6"
      }
    },
    {
      "cell_type": "markdown",
      "source": [
        "####A-M"
      ],
      "metadata": {
        "id": "sdVSrkzRPdUM"
      }
    },
    {
      "cell_type": "markdown",
      "source": [
        "*We expect the resting blood pressure to increase by 0.042 mmHg when the cholesterol increases by 1 mg/dl.*"
      ],
      "metadata": {
        "id": "GWCo5AMQPho8"
      }
    },
    {
      "cell_type": "markdown",
      "source": [
        "####N-Z"
      ],
      "metadata": {
        "id": "Dd7A2IF1PoBR"
      }
    },
    {
      "cell_type": "markdown",
      "source": [
        "*We expect the max heart rate to decrease by 1.005 bpm when the age increases by 1 year.*"
      ],
      "metadata": {
        "id": "oG0YMuUgPqtf"
      }
    },
    {
      "cell_type": "markdown",
      "source": [
        "### 5. Interpret the y-intercept of the least squares regression line in the context of this study. State whether the interpretation is reasonable."
      ],
      "metadata": {
        "id": "RwWQJSnpjbli"
      }
    },
    {
      "cell_type": "markdown",
      "source": [
        "####A-M"
      ],
      "metadata": {
        "id": "ODPTtJbUPxZc"
      }
    },
    {
      "cell_type": "markdown",
      "source": [
        "*· We expect the blood pressure to be 121.360 mmHg when the cholesterol level is 0 mg/dl.*\n",
        "\n",
        "*· This does not make sense.*"
      ],
      "metadata": {
        "id": "yoX8IMEoPzeb"
      }
    },
    {
      "cell_type": "markdown",
      "source": [
        "####N-Z"
      ],
      "metadata": {
        "id": "l72Hl8aXQLBw"
      }
    },
    {
      "cell_type": "markdown",
      "source": [
        "*· We expect the maximum heart rate to be 204.289 bpm when the age is 0 year old.*\n",
        "\n",
        "*· This does not make sense.*"
      ],
      "metadata": {
        "id": "jzKi_Ci9QMm_"
      }
    },
    {
      "cell_type": "markdown",
      "source": [
        "### 6. One person in the data set was 74 years old. Predict the value of your dependent variable from above for this person, using the actual value of the independent variable shown in the table below. Type your work below.\n",
        "\n",
        "<div align=center>\n",
        "\n",
        "| Last Name | Independent Variable (x) |\n",
        "|-----------|---------------------------|\n",
        "| A-L       | CHOL = 269                |\n",
        "| M-Z       | AGE = 74                  |\n",
        "\n",
        "</div>"
      ],
      "metadata": {
        "id": "2hgHl3gBjcyU"
      }
    },
    {
      "cell_type": "markdown",
      "source": [
        "####A-M"
      ],
      "metadata": {
        "id": "YLUN32czQy0K"
      }
    },
    {
      "cell_type": "markdown",
      "source": [
        "*Predicted y = 121.360 + 0.042(260) = 132.658 mmHg*"
      ],
      "metadata": {
        "id": "PMii6sTkQ0UX"
      }
    },
    {
      "cell_type": "markdown",
      "source": [
        "####N-Z"
      ],
      "metadata": {
        "id": "ww3hk8fSQ5gJ"
      }
    },
    {
      "cell_type": "markdown",
      "source": [
        "*Predicted y = 204.289 – 1.005(74) = 129.919 bpm*"
      ],
      "metadata": {
        "id": "ewwn_J1DQ7aI"
      }
    },
    {
      "cell_type": "markdown",
      "source": [
        "### 7. Look up, in the Excel or SPSS file, the actual value of your dependent variable. Compare your answer in question 6 above (the predicted dependent variable) to the actual value of your dependent variable."
      ],
      "metadata": {
        "id": "xoesY1l0jdao"
      }
    },
    {
      "cell_type": "markdown",
      "source": [
        "####A-M"
      ],
      "metadata": {
        "id": "ZUDgtYZVQjFM"
      }
    },
    {
      "cell_type": "markdown",
      "source": [
        "*(Actual blood pressure is 120 mmHg)*\n",
        "\n",
        "*The actual blood pressure is lower than predicted.*"
      ],
      "metadata": {
        "id": "JMS4j0ZkQdyj"
      }
    },
    {
      "cell_type": "markdown",
      "source": [
        "####N-Z"
      ],
      "metadata": {
        "id": "YbKdlh6fQlXk"
      }
    },
    {
      "cell_type": "markdown",
      "source": [
        "*(Actual max heart rate = 121 bpm)*\n",
        "\n",
        "*The actual max heart rate is less than predicted.*"
      ],
      "metadata": {
        "id": "3p_aqFOBQn2V"
      }
    },
    {
      "cell_type": "markdown",
      "source": [
        "### 8. Generate a paragraph of at least 100 words to address one of the following questions"
      ],
      "metadata": {
        "id": "WQ-wsUakj1Ov"
      }
    },
    {
      "cell_type": "markdown",
      "source": [
        "#### a. Discuss how analyzing your chosen data set using statistical methods could help you become better prepared for future courses in your major?"
      ],
      "metadata": {
        "id": "xXHrPLDUj2Wn"
      }
    },
    {
      "cell_type": "markdown",
      "source": [],
      "metadata": {
        "id": "gIwsw7NCQXUg"
      }
    },
    {
      "cell_type": "markdown",
      "source": [
        "#### b. Discuss how analyzing your chosen data set using statistical methods could be instrumental in becoming better prepared for your future career"
      ],
      "metadata": {
        "id": "Vzi33AAIj6kP"
      }
    },
    {
      "cell_type": "markdown",
      "source": [],
      "metadata": {
        "id": "FxEr8KXEQZyp"
      }
    }
  ]
}